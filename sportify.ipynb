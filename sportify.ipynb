{
  "nbformat": 4,
  "nbformat_minor": 0,
  "metadata": {
    "colab": {
      "name": "sportify.ipynb",
      "provenance": [],
      "collapsed_sections": [],
      "authorship_tag": "ABX9TyP/SaqCTXp1XyLrR92SjMPy",
      "include_colab_link": true
    },
    "kernelspec": {
      "name": "python3",
      "display_name": "Python 3"
    },
    "accelerator": "GPU"
  },
  "cells": [
    {
      "cell_type": "markdown",
      "metadata": {
        "id": "view-in-github",
        "colab_type": "text"
      },
      "source": [
        "<a href=\"https://colab.research.google.com/github/aratatokyo/spotify_dataset_trial/blob/main/sportify.ipynb\" target=\"_parent\"><img src=\"https://colab.research.google.com/assets/colab-badge.svg\" alt=\"Open In Colab\"/></a>"
      ]
    },
    {
      "cell_type": "markdown",
      "metadata": {
        "id": "pLzxod4VuPRs"
      },
      "source": [
        "# 参考\n",
        "## https://qiita.com/katsu1110/items/a8d508a1b6f07bd3a243"
      ]
    },
    {
      "cell_type": "code",
      "metadata": {
        "id": "hULxItZltxAn",
        "colab": {
          "resources": {
            "http://localhost:8080/nbextensions/google.colab/files.js": {
              "data": "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",
              "ok": true,
              "headers": [
                [
                  "content-type",
                  "application/javascript"
                ]
              ],
              "status": 200,
              "status_text": ""
            }
          },
          "base_uri": "https://localhost:8080/",
          "height": 95
        },
        "outputId": "07e8434e-b3ca-487b-d736-a22fd1cfe9a0"
      },
      "source": [
        "from google.colab import files\n",
        "files.upload()"
      ],
      "execution_count": 1,
      "outputs": [
        {
          "output_type": "display_data",
          "data": {
            "text/html": [
              "\n",
              "     <input type=\"file\" id=\"files-1cba2ed9-94b1-4a56-b800-9e52dfada6ea\" name=\"files[]\" multiple disabled\n",
              "        style=\"border:none\" />\n",
              "     <output id=\"result-1cba2ed9-94b1-4a56-b800-9e52dfada6ea\">\n",
              "      Upload widget is only available when the cell has been executed in the\n",
              "      current browser session. Please rerun this cell to enable.\n",
              "      </output>\n",
              "      <script src=\"/nbextensions/google.colab/files.js\"></script> "
            ],
            "text/plain": [
              "<IPython.core.display.HTML object>"
            ]
          },
          "metadata": {
            "tags": []
          }
        },
        {
          "output_type": "stream",
          "text": [
            "Saving kaggle.json to kaggle.json\n"
          ],
          "name": "stdout"
        },
        {
          "output_type": "execute_result",
          "data": {
            "text/plain": [
              "{'kaggle.json': b'{\"username\":\"keisukeshinohara\",\"key\":\"59af5be87b455e04cbc00fc275cbc806\"}'}"
            ]
          },
          "metadata": {
            "tags": []
          },
          "execution_count": 1
        }
      ]
    },
    {
      "cell_type": "code",
      "metadata": {
        "id": "ufcBzl-luOIJ"
      },
      "source": [
        "!mkdir -p ~/.kaggle\n",
        "!mv kaggle.json ~/.kaggle/"
      ],
      "execution_count": 2,
      "outputs": []
    },
    {
      "cell_type": "code",
      "metadata": {
        "colab": {
          "base_uri": "https://localhost:8080/"
        },
        "id": "-xJ62TbQx-W0",
        "outputId": "1baa9290-f366-48ab-864c-f682e72a27a6"
      },
      "source": [
        "from googleapiclient.discovery import build\n",
        "import io, os\n",
        "from googleapiclient.http import MediaIoBaseDownload\n",
        "from google.colab import auth\n",
        "\n",
        "auth.authenticate_user()\n",
        "\n",
        "drive_service = build('drive', 'v3')\n",
        "results = drive_service.files().list(\n",
        "        q=\"name = 'kaggle.json'\", fields=\"files(id)\").execute()\n",
        "kaggle_api_key = results.get('files', [])\n",
        "\n",
        "filename = \"/root/.kaggle/kaggle.json\"\n",
        "os.makedirs(os.path.dirname(filename), exist_ok=True)\n",
        "\n",
        "request = drive_service.files().get_media(fileId=kaggle_api_key[0]['id'])\n",
        "fh = io.FileIO(filename, 'wb')\n",
        "downloader = MediaIoBaseDownload(fh, request)\n",
        "done = False\n",
        "while done is False:\n",
        "    status, done = downloader.next_chunk()\n",
        "    print(\"Download %d%%.\" % int(status.progress() * 100))\n",
        "os.chmod(filename, 600)"
      ],
      "execution_count": 5,
      "outputs": [
        {
          "output_type": "stream",
          "text": [
            "Download 100%.\n"
          ],
          "name": "stdout"
        }
      ]
    },
    {
      "cell_type": "code",
      "metadata": {
        "colab": {
          "base_uri": "https://localhost:8080/"
        },
        "id": "GUmCoS5NyB-O",
        "outputId": "f477a120-3e3e-43d9-9805-334b719d3260"
      },
      "source": [
        "!pip install kaggle\n"
      ],
      "execution_count": 6,
      "outputs": [
        {
          "output_type": "stream",
          "text": [
            "Requirement already satisfied: kaggle in /usr/local/lib/python3.6/dist-packages (1.5.10)\n",
            "Requirement already satisfied: tqdm in /usr/local/lib/python3.6/dist-packages (from kaggle) (4.41.1)\n",
            "Requirement already satisfied: requests in /usr/local/lib/python3.6/dist-packages (from kaggle) (2.23.0)\n",
            "Requirement already satisfied: python-slugify in /usr/local/lib/python3.6/dist-packages (from kaggle) (4.0.1)\n",
            "Requirement already satisfied: six>=1.10 in /usr/local/lib/python3.6/dist-packages (from kaggle) (1.15.0)\n",
            "Requirement already satisfied: python-dateutil in /usr/local/lib/python3.6/dist-packages (from kaggle) (2.8.1)\n",
            "Requirement already satisfied: certifi in /usr/local/lib/python3.6/dist-packages (from kaggle) (2020.12.5)\n",
            "Requirement already satisfied: urllib3 in /usr/local/lib/python3.6/dist-packages (from kaggle) (1.24.3)\n",
            "Requirement already satisfied: chardet<4,>=3.0.2 in /usr/local/lib/python3.6/dist-packages (from requests->kaggle) (3.0.4)\n",
            "Requirement already satisfied: idna<3,>=2.5 in /usr/local/lib/python3.6/dist-packages (from requests->kaggle) (2.10)\n",
            "Requirement already satisfied: text-unidecode>=1.3 in /usr/local/lib/python3.6/dist-packages (from python-slugify->kaggle) (1.3)\n"
          ],
          "name": "stdout"
        }
      ]
    },
    {
      "cell_type": "code",
      "metadata": {
        "id": "5elDhSdtyVQF"
      },
      "source": [
        "!chmod 600 /root/.kaggle/kaggle.json"
      ],
      "execution_count": 7,
      "outputs": []
    },
    {
      "cell_type": "code",
      "metadata": {
        "colab": {
          "base_uri": "https://localhost:8080/"
        },
        "id": "8G8OXcgzyt59",
        "outputId": "8d2b6ba7-b0f8-47c2-84aa-a2b246e7aac7"
      },
      "source": [
        "!kaggle datasets download -d yamaerenay/spotify-dataset-19212020-160k-tracks"
      ],
      "execution_count": 6,
      "outputs": [
        {
          "output_type": "stream",
          "text": [
            "Downloading spotify-dataset-19212020-160k-tracks.zip to /content\n",
            " 52% 9.00M/17.4M [00:00<00:00, 37.1MB/s]\n",
            "100% 17.4M/17.4M [00:00<00:00, 58.1MB/s]\n"
          ],
          "name": "stdout"
        }
      ]
    },
    {
      "cell_type": "markdown",
      "metadata": {
        "id": "a5bluikB0O-C"
      },
      "source": [
        "# zipから解答\n",
        "## http://tsukiblog.net/?p=641\n"
      ]
    },
    {
      "cell_type": "code",
      "metadata": {
        "colab": {
          "base_uri": "https://localhost:8080/"
        },
        "id": "vVma0uycznyT",
        "outputId": "da5e931c-7aaf-4f7d-cdbe-e4fe8ea48f5d"
      },
      "source": [
        "!unzip \"/content/spotify-dataset-19212020-160k-tracks.zip\""
      ],
      "execution_count": 7,
      "outputs": [
        {
          "output_type": "stream",
          "text": [
            "Archive:  /content/spotify-dataset-19212020-160k-tracks.zip\n",
            "  inflating: data.csv                \n",
            "  inflating: data_by_artist.csv      \n",
            "  inflating: data_by_genres.csv      \n",
            "  inflating: data_by_year.csv        \n",
            "  inflating: data_w_genres.csv       \n"
          ],
          "name": "stdout"
        }
      ]
    },
    {
      "cell_type": "code",
      "metadata": {
        "id": "4smdWEbj0KsT"
      },
      "source": [
        "import numpy as np # linear algebra\n",
        "import pandas as pd # data processing, CSV file I/O (e.g. pd.read_csv)"
      ],
      "execution_count": 8,
      "outputs": []
    },
    {
      "cell_type": "code",
      "metadata": {
        "colab": {
          "base_uri": "https://localhost:8080/",
          "height": 379
        },
        "id": "eS7bvB4Z00B5",
        "outputId": "18bf5324-a6ec-42c8-b478-9876c203b216"
      },
      "source": [
        "data = pd.read_csv(\"/content/data.csv\")"
      ],
      "execution_count": 3,
      "outputs": [
        {
          "output_type": "error",
          "ename": "FileNotFoundError",
          "evalue": "ignored",
          "traceback": [
            "\u001b[0;31m---------------------------------------------------------------------------\u001b[0m",
            "\u001b[0;31mFileNotFoundError\u001b[0m                         Traceback (most recent call last)",
            "\u001b[0;32m<ipython-input-3-d793cd4a8ced>\u001b[0m in \u001b[0;36m<module>\u001b[0;34m()\u001b[0m\n\u001b[0;32m----> 1\u001b[0;31m \u001b[0mdata\u001b[0m \u001b[0;34m=\u001b[0m \u001b[0mpd\u001b[0m\u001b[0;34m.\u001b[0m\u001b[0mread_csv\u001b[0m\u001b[0;34m(\u001b[0m\u001b[0;34m\"/content/data.csv\"\u001b[0m\u001b[0;34m)\u001b[0m\u001b[0;34m\u001b[0m\u001b[0;34m\u001b[0m\u001b[0m\n\u001b[0m",
            "\u001b[0;32m/usr/local/lib/python3.6/dist-packages/pandas/io/parsers.py\u001b[0m in \u001b[0;36mread_csv\u001b[0;34m(filepath_or_buffer, sep, delimiter, header, names, index_col, usecols, squeeze, prefix, mangle_dupe_cols, dtype, engine, converters, true_values, false_values, skipinitialspace, skiprows, skipfooter, nrows, na_values, keep_default_na, na_filter, verbose, skip_blank_lines, parse_dates, infer_datetime_format, keep_date_col, date_parser, dayfirst, cache_dates, iterator, chunksize, compression, thousands, decimal, lineterminator, quotechar, quoting, doublequote, escapechar, comment, encoding, dialect, error_bad_lines, warn_bad_lines, delim_whitespace, low_memory, memory_map, float_precision)\u001b[0m\n\u001b[1;32m    686\u001b[0m     )\n\u001b[1;32m    687\u001b[0m \u001b[0;34m\u001b[0m\u001b[0m\n\u001b[0;32m--> 688\u001b[0;31m     \u001b[0;32mreturn\u001b[0m \u001b[0m_read\u001b[0m\u001b[0;34m(\u001b[0m\u001b[0mfilepath_or_buffer\u001b[0m\u001b[0;34m,\u001b[0m \u001b[0mkwds\u001b[0m\u001b[0;34m)\u001b[0m\u001b[0;34m\u001b[0m\u001b[0;34m\u001b[0m\u001b[0m\n\u001b[0m\u001b[1;32m    689\u001b[0m \u001b[0;34m\u001b[0m\u001b[0m\n\u001b[1;32m    690\u001b[0m \u001b[0;34m\u001b[0m\u001b[0m\n",
            "\u001b[0;32m/usr/local/lib/python3.6/dist-packages/pandas/io/parsers.py\u001b[0m in \u001b[0;36m_read\u001b[0;34m(filepath_or_buffer, kwds)\u001b[0m\n\u001b[1;32m    452\u001b[0m \u001b[0;34m\u001b[0m\u001b[0m\n\u001b[1;32m    453\u001b[0m     \u001b[0;31m# Create the parser.\u001b[0m\u001b[0;34m\u001b[0m\u001b[0;34m\u001b[0m\u001b[0;34m\u001b[0m\u001b[0m\n\u001b[0;32m--> 454\u001b[0;31m     \u001b[0mparser\u001b[0m \u001b[0;34m=\u001b[0m \u001b[0mTextFileReader\u001b[0m\u001b[0;34m(\u001b[0m\u001b[0mfp_or_buf\u001b[0m\u001b[0;34m,\u001b[0m \u001b[0;34m**\u001b[0m\u001b[0mkwds\u001b[0m\u001b[0;34m)\u001b[0m\u001b[0;34m\u001b[0m\u001b[0;34m\u001b[0m\u001b[0m\n\u001b[0m\u001b[1;32m    455\u001b[0m \u001b[0;34m\u001b[0m\u001b[0m\n\u001b[1;32m    456\u001b[0m     \u001b[0;32mif\u001b[0m \u001b[0mchunksize\u001b[0m \u001b[0;32mor\u001b[0m \u001b[0miterator\u001b[0m\u001b[0;34m:\u001b[0m\u001b[0;34m\u001b[0m\u001b[0;34m\u001b[0m\u001b[0m\n",
            "\u001b[0;32m/usr/local/lib/python3.6/dist-packages/pandas/io/parsers.py\u001b[0m in \u001b[0;36m__init__\u001b[0;34m(self, f, engine, **kwds)\u001b[0m\n\u001b[1;32m    946\u001b[0m             \u001b[0mself\u001b[0m\u001b[0;34m.\u001b[0m\u001b[0moptions\u001b[0m\u001b[0;34m[\u001b[0m\u001b[0;34m\"has_index_names\"\u001b[0m\u001b[0;34m]\u001b[0m \u001b[0;34m=\u001b[0m \u001b[0mkwds\u001b[0m\u001b[0;34m[\u001b[0m\u001b[0;34m\"has_index_names\"\u001b[0m\u001b[0;34m]\u001b[0m\u001b[0;34m\u001b[0m\u001b[0;34m\u001b[0m\u001b[0m\n\u001b[1;32m    947\u001b[0m \u001b[0;34m\u001b[0m\u001b[0m\n\u001b[0;32m--> 948\u001b[0;31m         \u001b[0mself\u001b[0m\u001b[0;34m.\u001b[0m\u001b[0m_make_engine\u001b[0m\u001b[0;34m(\u001b[0m\u001b[0mself\u001b[0m\u001b[0;34m.\u001b[0m\u001b[0mengine\u001b[0m\u001b[0;34m)\u001b[0m\u001b[0;34m\u001b[0m\u001b[0;34m\u001b[0m\u001b[0m\n\u001b[0m\u001b[1;32m    949\u001b[0m \u001b[0;34m\u001b[0m\u001b[0m\n\u001b[1;32m    950\u001b[0m     \u001b[0;32mdef\u001b[0m \u001b[0mclose\u001b[0m\u001b[0;34m(\u001b[0m\u001b[0mself\u001b[0m\u001b[0;34m)\u001b[0m\u001b[0;34m:\u001b[0m\u001b[0;34m\u001b[0m\u001b[0;34m\u001b[0m\u001b[0m\n",
            "\u001b[0;32m/usr/local/lib/python3.6/dist-packages/pandas/io/parsers.py\u001b[0m in \u001b[0;36m_make_engine\u001b[0;34m(self, engine)\u001b[0m\n\u001b[1;32m   1178\u001b[0m     \u001b[0;32mdef\u001b[0m \u001b[0m_make_engine\u001b[0m\u001b[0;34m(\u001b[0m\u001b[0mself\u001b[0m\u001b[0;34m,\u001b[0m \u001b[0mengine\u001b[0m\u001b[0;34m=\u001b[0m\u001b[0;34m\"c\"\u001b[0m\u001b[0;34m)\u001b[0m\u001b[0;34m:\u001b[0m\u001b[0;34m\u001b[0m\u001b[0;34m\u001b[0m\u001b[0m\n\u001b[1;32m   1179\u001b[0m         \u001b[0;32mif\u001b[0m \u001b[0mengine\u001b[0m \u001b[0;34m==\u001b[0m \u001b[0;34m\"c\"\u001b[0m\u001b[0;34m:\u001b[0m\u001b[0;34m\u001b[0m\u001b[0;34m\u001b[0m\u001b[0m\n\u001b[0;32m-> 1180\u001b[0;31m             \u001b[0mself\u001b[0m\u001b[0;34m.\u001b[0m\u001b[0m_engine\u001b[0m \u001b[0;34m=\u001b[0m \u001b[0mCParserWrapper\u001b[0m\u001b[0;34m(\u001b[0m\u001b[0mself\u001b[0m\u001b[0;34m.\u001b[0m\u001b[0mf\u001b[0m\u001b[0;34m,\u001b[0m \u001b[0;34m**\u001b[0m\u001b[0mself\u001b[0m\u001b[0;34m.\u001b[0m\u001b[0moptions\u001b[0m\u001b[0;34m)\u001b[0m\u001b[0;34m\u001b[0m\u001b[0;34m\u001b[0m\u001b[0m\n\u001b[0m\u001b[1;32m   1181\u001b[0m         \u001b[0;32melse\u001b[0m\u001b[0;34m:\u001b[0m\u001b[0;34m\u001b[0m\u001b[0;34m\u001b[0m\u001b[0m\n\u001b[1;32m   1182\u001b[0m             \u001b[0;32mif\u001b[0m \u001b[0mengine\u001b[0m \u001b[0;34m==\u001b[0m \u001b[0;34m\"python\"\u001b[0m\u001b[0;34m:\u001b[0m\u001b[0;34m\u001b[0m\u001b[0;34m\u001b[0m\u001b[0m\n",
            "\u001b[0;32m/usr/local/lib/python3.6/dist-packages/pandas/io/parsers.py\u001b[0m in \u001b[0;36m__init__\u001b[0;34m(self, src, **kwds)\u001b[0m\n\u001b[1;32m   2008\u001b[0m         \u001b[0mkwds\u001b[0m\u001b[0;34m[\u001b[0m\u001b[0;34m\"usecols\"\u001b[0m\u001b[0;34m]\u001b[0m \u001b[0;34m=\u001b[0m \u001b[0mself\u001b[0m\u001b[0;34m.\u001b[0m\u001b[0musecols\u001b[0m\u001b[0;34m\u001b[0m\u001b[0;34m\u001b[0m\u001b[0m\n\u001b[1;32m   2009\u001b[0m \u001b[0;34m\u001b[0m\u001b[0m\n\u001b[0;32m-> 2010\u001b[0;31m         \u001b[0mself\u001b[0m\u001b[0;34m.\u001b[0m\u001b[0m_reader\u001b[0m \u001b[0;34m=\u001b[0m \u001b[0mparsers\u001b[0m\u001b[0;34m.\u001b[0m\u001b[0mTextReader\u001b[0m\u001b[0;34m(\u001b[0m\u001b[0msrc\u001b[0m\u001b[0;34m,\u001b[0m \u001b[0;34m**\u001b[0m\u001b[0mkwds\u001b[0m\u001b[0;34m)\u001b[0m\u001b[0;34m\u001b[0m\u001b[0;34m\u001b[0m\u001b[0m\n\u001b[0m\u001b[1;32m   2011\u001b[0m         \u001b[0mself\u001b[0m\u001b[0;34m.\u001b[0m\u001b[0munnamed_cols\u001b[0m \u001b[0;34m=\u001b[0m \u001b[0mself\u001b[0m\u001b[0;34m.\u001b[0m\u001b[0m_reader\u001b[0m\u001b[0;34m.\u001b[0m\u001b[0munnamed_cols\u001b[0m\u001b[0;34m\u001b[0m\u001b[0;34m\u001b[0m\u001b[0m\n\u001b[1;32m   2012\u001b[0m \u001b[0;34m\u001b[0m\u001b[0m\n",
            "\u001b[0;32mpandas/_libs/parsers.pyx\u001b[0m in \u001b[0;36mpandas._libs.parsers.TextReader.__cinit__\u001b[0;34m()\u001b[0m\n",
            "\u001b[0;32mpandas/_libs/parsers.pyx\u001b[0m in \u001b[0;36mpandas._libs.parsers.TextReader._setup_parser_source\u001b[0;34m()\u001b[0m\n",
            "\u001b[0;31mFileNotFoundError\u001b[0m: [Errno 2] No such file or directory: '/content/data.csv'"
          ]
        }
      ]
    },
    {
      "cell_type": "code",
      "metadata": {
        "colab": {
          "base_uri": "https://localhost:8080/",
          "height": 168
        },
        "id": "oDH8ZKig1EuH",
        "outputId": "4ec48dc1-4793-490e-80f0-d6b2a02c1c9b"
      },
      "source": [
        "data.describe()"
      ],
      "execution_count": 4,
      "outputs": [
        {
          "output_type": "error",
          "ename": "NameError",
          "evalue": "ignored",
          "traceback": [
            "\u001b[0;31m---------------------------------------------------------------------------\u001b[0m",
            "\u001b[0;31mNameError\u001b[0m                                 Traceback (most recent call last)",
            "\u001b[0;32m<ipython-input-4-2bb0b18689d4>\u001b[0m in \u001b[0;36m<module>\u001b[0;34m()\u001b[0m\n\u001b[0;32m----> 1\u001b[0;31m \u001b[0mdata\u001b[0m\u001b[0;34m.\u001b[0m\u001b[0mdescribe\u001b[0m\u001b[0;34m(\u001b[0m\u001b[0;34m)\u001b[0m\u001b[0;34m\u001b[0m\u001b[0;34m\u001b[0m\u001b[0m\n\u001b[0m",
            "\u001b[0;31mNameError\u001b[0m: name 'data' is not defined"
          ]
        }
      ]
    },
    {
      "cell_type": "code",
      "metadata": {
        "id": "i7OZcY371KA1"
      },
      "source": [
        ""
      ],
      "execution_count": 4,
      "outputs": []
    },
    {
      "cell_type": "markdown",
      "metadata": {
        "id": "ZHD-MMGINlwA"
      },
      "source": [
        "# 参考になるnotebook\n",
        "## https://www.kaggle.com/darkstardream/spotify-analysis-starman"
      ]
    },
    {
      "cell_type": "markdown",
      "metadata": {
        "id": "Pk7sdZRfI8oJ"
      },
      "source": [
        "# 考察\n",
        "・ジャンルは存在する、ジャンルと各パラメターの値の相関は確認したい→ここはさくっとgenreで可視化  \n",
        "・自分に合ったアーティスト、曲のレコメンドをして欲しい。→好きな曲をピックアップして、そのパラメターをカテゴライズする。自分の中の好きな曲のジャンルがわかる→何曲選ぶか。。"
      ]
    },
    {
      "cell_type": "code",
      "metadata": {
        "id": "q0LYqLgBNtYF"
      },
      "source": [
        "genre = pd.read_csv(\"/content/data_by_genres.csv\")"
      ],
      "execution_count": 15,
      "outputs": []
    },
    {
      "cell_type": "code",
      "metadata": {
        "colab": {
          "base_uri": "https://localhost:8080/",
          "height": 275
        },
        "id": "jxalEakFWhqj",
        "outputId": "4992024d-dcd1-4137-e64b-17a50cb7a38e"
      },
      "source": [
        "genre.head()"
      ],
      "execution_count": 50,
      "outputs": [
        {
          "output_type": "execute_result",
          "data": {
            "text/html": [
              "<div>\n",
              "<style scoped>\n",
              "    .dataframe tbody tr th:only-of-type {\n",
              "        vertical-align: middle;\n",
              "    }\n",
              "\n",
              "    .dataframe tbody tr th {\n",
              "        vertical-align: top;\n",
              "    }\n",
              "\n",
              "    .dataframe thead th {\n",
              "        text-align: right;\n",
              "    }\n",
              "</style>\n",
              "<table border=\"1\" class=\"dataframe\">\n",
              "  <thead>\n",
              "    <tr style=\"text-align: right;\">\n",
              "      <th></th>\n",
              "      <th>genres</th>\n",
              "      <th>acousticness</th>\n",
              "      <th>danceability</th>\n",
              "      <th>duration_ms</th>\n",
              "      <th>energy</th>\n",
              "      <th>instrumentalness</th>\n",
              "      <th>liveness</th>\n",
              "      <th>loudness</th>\n",
              "      <th>speechiness</th>\n",
              "      <th>tempo</th>\n",
              "      <th>valence</th>\n",
              "      <th>popularity</th>\n",
              "      <th>key</th>\n",
              "      <th>mode</th>\n",
              "    </tr>\n",
              "  </thead>\n",
              "  <tbody>\n",
              "    <tr>\n",
              "      <th>0</th>\n",
              "      <td>21st century classical</td>\n",
              "      <td>0.754600</td>\n",
              "      <td>0.284100</td>\n",
              "      <td>3.525932e+05</td>\n",
              "      <td>0.159580</td>\n",
              "      <td>0.484374</td>\n",
              "      <td>0.168580</td>\n",
              "      <td>-22.153400</td>\n",
              "      <td>0.062060</td>\n",
              "      <td>91.351000</td>\n",
              "      <td>0.143380</td>\n",
              "      <td>6.600000</td>\n",
              "      <td>4</td>\n",
              "      <td>1</td>\n",
              "    </tr>\n",
              "    <tr>\n",
              "      <th>1</th>\n",
              "      <td>432hz</td>\n",
              "      <td>0.485515</td>\n",
              "      <td>0.312000</td>\n",
              "      <td>1.047430e+06</td>\n",
              "      <td>0.391678</td>\n",
              "      <td>0.477250</td>\n",
              "      <td>0.265940</td>\n",
              "      <td>-18.131267</td>\n",
              "      <td>0.071717</td>\n",
              "      <td>118.900933</td>\n",
              "      <td>0.236483</td>\n",
              "      <td>41.200000</td>\n",
              "      <td>11</td>\n",
              "      <td>1</td>\n",
              "    </tr>\n",
              "    <tr>\n",
              "      <th>2</th>\n",
              "      <td>8-bit</td>\n",
              "      <td>0.028900</td>\n",
              "      <td>0.673000</td>\n",
              "      <td>1.334540e+05</td>\n",
              "      <td>0.950000</td>\n",
              "      <td>0.630000</td>\n",
              "      <td>0.069000</td>\n",
              "      <td>-7.899000</td>\n",
              "      <td>0.292000</td>\n",
              "      <td>192.816000</td>\n",
              "      <td>0.997000</td>\n",
              "      <td>0.000000</td>\n",
              "      <td>5</td>\n",
              "      <td>1</td>\n",
              "    </tr>\n",
              "    <tr>\n",
              "      <th>3</th>\n",
              "      <td>[]</td>\n",
              "      <td>0.535793</td>\n",
              "      <td>0.546937</td>\n",
              "      <td>2.495312e+05</td>\n",
              "      <td>0.485430</td>\n",
              "      <td>0.278442</td>\n",
              "      <td>0.220970</td>\n",
              "      <td>-11.624754</td>\n",
              "      <td>0.101511</td>\n",
              "      <td>116.068980</td>\n",
              "      <td>0.486361</td>\n",
              "      <td>12.350770</td>\n",
              "      <td>7</td>\n",
              "      <td>1</td>\n",
              "    </tr>\n",
              "    <tr>\n",
              "      <th>4</th>\n",
              "      <td>a cappella</td>\n",
              "      <td>0.694276</td>\n",
              "      <td>0.516172</td>\n",
              "      <td>2.018391e+05</td>\n",
              "      <td>0.330533</td>\n",
              "      <td>0.036080</td>\n",
              "      <td>0.222983</td>\n",
              "      <td>-12.656547</td>\n",
              "      <td>0.083627</td>\n",
              "      <td>105.506031</td>\n",
              "      <td>0.454077</td>\n",
              "      <td>39.086248</td>\n",
              "      <td>7</td>\n",
              "      <td>1</td>\n",
              "    </tr>\n",
              "  </tbody>\n",
              "</table>\n",
              "</div>"
            ],
            "text/plain": [
              "                   genres  acousticness  danceability  ...  popularity  key  mode\n",
              "0  21st century classical      0.754600      0.284100  ...    6.600000    4     1\n",
              "1                   432hz      0.485515      0.312000  ...   41.200000   11     1\n",
              "2                   8-bit      0.028900      0.673000  ...    0.000000    5     1\n",
              "3                      []      0.535793      0.546937  ...   12.350770    7     1\n",
              "4              a cappella      0.694276      0.516172  ...   39.086248    7     1\n",
              "\n",
              "[5 rows x 14 columns]"
            ]
          },
          "metadata": {
            "tags": []
          },
          "execution_count": 50
        }
      ]
    },
    {
      "cell_type": "code",
      "metadata": {
        "colab": {
          "base_uri": "https://localhost:8080/",
          "height": 317
        },
        "id": "vfHIdP4zOqja",
        "outputId": "5feb3f4c-34e0-4c44-cf5c-f428cdbcb554"
      },
      "source": [
        "genre.describe()"
      ],
      "execution_count": 16,
      "outputs": [
        {
          "output_type": "execute_result",
          "data": {
            "text/html": [
              "<div>\n",
              "<style scoped>\n",
              "    .dataframe tbody tr th:only-of-type {\n",
              "        vertical-align: middle;\n",
              "    }\n",
              "\n",
              "    .dataframe tbody tr th {\n",
              "        vertical-align: top;\n",
              "    }\n",
              "\n",
              "    .dataframe thead th {\n",
              "        text-align: right;\n",
              "    }\n",
              "</style>\n",
              "<table border=\"1\" class=\"dataframe\">\n",
              "  <thead>\n",
              "    <tr style=\"text-align: right;\">\n",
              "      <th></th>\n",
              "      <th>acousticness</th>\n",
              "      <th>danceability</th>\n",
              "      <th>duration_ms</th>\n",
              "      <th>energy</th>\n",
              "      <th>instrumentalness</th>\n",
              "      <th>liveness</th>\n",
              "      <th>loudness</th>\n",
              "      <th>speechiness</th>\n",
              "      <th>tempo</th>\n",
              "      <th>valence</th>\n",
              "      <th>popularity</th>\n",
              "      <th>key</th>\n",
              "      <th>mode</th>\n",
              "    </tr>\n",
              "  </thead>\n",
              "  <tbody>\n",
              "    <tr>\n",
              "      <th>count</th>\n",
              "      <td>3232.000000</td>\n",
              "      <td>3232.000000</td>\n",
              "      <td>3.232000e+03</td>\n",
              "      <td>3232.000000</td>\n",
              "      <td>3232.000000</td>\n",
              "      <td>3232.000000</td>\n",
              "      <td>3232.000000</td>\n",
              "      <td>3232.000000</td>\n",
              "      <td>3232.000000</td>\n",
              "      <td>3232.000000</td>\n",
              "      <td>3232.000000</td>\n",
              "      <td>3232.000000</td>\n",
              "      <td>3232.000000</td>\n",
              "    </tr>\n",
              "    <tr>\n",
              "      <th>mean</th>\n",
              "      <td>0.368161</td>\n",
              "      <td>0.540810</td>\n",
              "      <td>2.614567e+05</td>\n",
              "      <td>0.583474</td>\n",
              "      <td>0.254888</td>\n",
              "      <td>0.204010</td>\n",
              "      <td>-10.396208</td>\n",
              "      <td>0.084999</td>\n",
              "      <td>119.707549</td>\n",
              "      <td>0.483757</td>\n",
              "      <td>29.701618</td>\n",
              "      <td>5.942450</td>\n",
              "      <td>0.819926</td>\n",
              "    </tr>\n",
              "    <tr>\n",
              "      <th>std</th>\n",
              "      <td>0.319697</td>\n",
              "      <td>0.149353</td>\n",
              "      <td>1.255810e+05</td>\n",
              "      <td>0.232931</td>\n",
              "      <td>0.283907</td>\n",
              "      <td>0.103440</td>\n",
              "      <td>5.024042</td>\n",
              "      <td>0.081157</td>\n",
              "      <td>17.333590</td>\n",
              "      <td>0.200382</td>\n",
              "      <td>18.415394</td>\n",
              "      <td>3.342851</td>\n",
              "      <td>0.384309</td>\n",
              "    </tr>\n",
              "    <tr>\n",
              "      <th>min</th>\n",
              "      <td>0.000001</td>\n",
              "      <td>0.063200</td>\n",
              "      <td>3.094600e+04</td>\n",
              "      <td>0.000953</td>\n",
              "      <td>0.000000</td>\n",
              "      <td>0.016500</td>\n",
              "      <td>-40.637000</td>\n",
              "      <td>0.024300</td>\n",
              "      <td>61.364269</td>\n",
              "      <td>0.019285</td>\n",
              "      <td>0.000000</td>\n",
              "      <td>0.000000</td>\n",
              "      <td>0.000000</td>\n",
              "    </tr>\n",
              "    <tr>\n",
              "      <th>25%</th>\n",
              "      <td>0.082914</td>\n",
              "      <td>0.450250</td>\n",
              "      <td>2.068497e+05</td>\n",
              "      <td>0.419648</td>\n",
              "      <td>0.013383</td>\n",
              "      <td>0.142317</td>\n",
              "      <td>-12.212486</td>\n",
              "      <td>0.046431</td>\n",
              "      <td>109.480352</td>\n",
              "      <td>0.341571</td>\n",
              "      <td>15.190070</td>\n",
              "      <td>3.000000</td>\n",
              "      <td>1.000000</td>\n",
              "    </tr>\n",
              "    <tr>\n",
              "      <th>50%</th>\n",
              "      <td>0.280119</td>\n",
              "      <td>0.550334</td>\n",
              "      <td>2.418786e+05</td>\n",
              "      <td>0.622982</td>\n",
              "      <td>0.128343</td>\n",
              "      <td>0.185618</td>\n",
              "      <td>-9.097583</td>\n",
              "      <td>0.060769</td>\n",
              "      <td>120.142000</td>\n",
              "      <td>0.488364</td>\n",
              "      <td>32.181281</td>\n",
              "      <td>7.000000</td>\n",
              "      <td>1.000000</td>\n",
              "    </tr>\n",
              "    <tr>\n",
              "      <th>75%</th>\n",
              "      <td>0.629265</td>\n",
              "      <td>0.645470</td>\n",
              "      <td>2.873741e+05</td>\n",
              "      <td>0.756599</td>\n",
              "      <td>0.443383</td>\n",
              "      <td>0.233807</td>\n",
              "      <td>-7.038634</td>\n",
              "      <td>0.091795</td>\n",
              "      <td>128.253833</td>\n",
              "      <td>0.626171</td>\n",
              "      <td>43.069058</td>\n",
              "      <td>9.000000</td>\n",
              "      <td>1.000000</td>\n",
              "    </tr>\n",
              "    <tr>\n",
              "      <th>max</th>\n",
              "      <td>0.996000</td>\n",
              "      <td>0.940000</td>\n",
              "      <td>3.478338e+06</td>\n",
              "      <td>0.999000</td>\n",
              "      <td>0.984000</td>\n",
              "      <td>0.944000</td>\n",
              "      <td>-0.862000</td>\n",
              "      <td>0.956000</td>\n",
              "      <td>211.968000</td>\n",
              "      <td>0.997000</td>\n",
              "      <td>79.000000</td>\n",
              "      <td>11.000000</td>\n",
              "      <td>1.000000</td>\n",
              "    </tr>\n",
              "  </tbody>\n",
              "</table>\n",
              "</div>"
            ],
            "text/plain": [
              "       acousticness  danceability  ...          key         mode\n",
              "count   3232.000000   3232.000000  ...  3232.000000  3232.000000\n",
              "mean       0.368161      0.540810  ...     5.942450     0.819926\n",
              "std        0.319697      0.149353  ...     3.342851     0.384309\n",
              "min        0.000001      0.063200  ...     0.000000     0.000000\n",
              "25%        0.082914      0.450250  ...     3.000000     1.000000\n",
              "50%        0.280119      0.550334  ...     7.000000     1.000000\n",
              "75%        0.629265      0.645470  ...     9.000000     1.000000\n",
              "max        0.996000      0.940000  ...    11.000000     1.000000\n",
              "\n",
              "[8 rows x 13 columns]"
            ]
          },
          "metadata": {
            "tags": []
          },
          "execution_count": 16
        }
      ]
    },
    {
      "cell_type": "markdown",
      "metadata": {
        "id": "n1UbCej8Pv4c"
      },
      "source": [
        "・3000を超えるジャンルが存在。。  \n",
        "・好きなアーティストをpick upして、そのジャンルを確認"
      ]
    },
    {
      "cell_type": "code",
      "metadata": {
        "id": "lLilGPLoPNYe"
      },
      "source": [
        "w_genre = pd.read_csv(\"data_w_genres.csv\" )"
      ],
      "execution_count": 23,
      "outputs": []
    },
    {
      "cell_type": "code",
      "metadata": {
        "colab": {
          "base_uri": "https://localhost:8080/",
          "height": 250
        },
        "id": "UtitGYnxR7-w",
        "outputId": "523a26b5-a317-4f3d-975b-9b4cdc012994"
      },
      "source": [
        "w_genre.head(2)"
      ],
      "execution_count": 69,
      "outputs": [
        {
          "output_type": "execute_result",
          "data": {
            "text/html": [
              "<div>\n",
              "<style scoped>\n",
              "    .dataframe tbody tr th:only-of-type {\n",
              "        vertical-align: middle;\n",
              "    }\n",
              "\n",
              "    .dataframe tbody tr th {\n",
              "        vertical-align: top;\n",
              "    }\n",
              "\n",
              "    .dataframe thead th {\n",
              "        text-align: right;\n",
              "    }\n",
              "</style>\n",
              "<table border=\"1\" class=\"dataframe\">\n",
              "  <thead>\n",
              "    <tr style=\"text-align: right;\">\n",
              "      <th></th>\n",
              "      <th>artists</th>\n",
              "      <th>acousticness</th>\n",
              "      <th>danceability</th>\n",
              "      <th>duration_ms</th>\n",
              "      <th>energy</th>\n",
              "      <th>instrumentalness</th>\n",
              "      <th>liveness</th>\n",
              "      <th>loudness</th>\n",
              "      <th>speechiness</th>\n",
              "      <th>tempo</th>\n",
              "      <th>valence</th>\n",
              "      <th>popularity</th>\n",
              "      <th>key</th>\n",
              "      <th>mode</th>\n",
              "      <th>count</th>\n",
              "      <th>genres</th>\n",
              "    </tr>\n",
              "  </thead>\n",
              "  <tbody>\n",
              "    <tr>\n",
              "      <th>0</th>\n",
              "      <td>\"Cats\" 1981 Original London Cast</td>\n",
              "      <td>0.598500</td>\n",
              "      <td>0.470100</td>\n",
              "      <td>267072.0</td>\n",
              "      <td>0.376203</td>\n",
              "      <td>0.010261</td>\n",
              "      <td>0.283050</td>\n",
              "      <td>-14.4343</td>\n",
              "      <td>0.209150</td>\n",
              "      <td>114.128800</td>\n",
              "      <td>0.358320</td>\n",
              "      <td>38.200000</td>\n",
              "      <td>5</td>\n",
              "      <td>1</td>\n",
              "      <td>10</td>\n",
              "      <td>['show tunes']</td>\n",
              "    </tr>\n",
              "    <tr>\n",
              "      <th>1</th>\n",
              "      <td>\"Cats\" 1983 Broadway Cast</td>\n",
              "      <td>0.862538</td>\n",
              "      <td>0.441731</td>\n",
              "      <td>287280.0</td>\n",
              "      <td>0.406808</td>\n",
              "      <td>0.081158</td>\n",
              "      <td>0.315215</td>\n",
              "      <td>-10.6900</td>\n",
              "      <td>0.176212</td>\n",
              "      <td>103.044154</td>\n",
              "      <td>0.268865</td>\n",
              "      <td>31.538462</td>\n",
              "      <td>5</td>\n",
              "      <td>1</td>\n",
              "      <td>26</td>\n",
              "      <td>[]</td>\n",
              "    </tr>\n",
              "  </tbody>\n",
              "</table>\n",
              "</div>"
            ],
            "text/plain": [
              "                            artists  acousticness  ...  count          genres\n",
              "0  \"Cats\" 1981 Original London Cast      0.598500  ...     10  ['show tunes']\n",
              "1         \"Cats\" 1983 Broadway Cast      0.862538  ...     26              []\n",
              "\n",
              "[2 rows x 16 columns]"
            ]
          },
          "metadata": {
            "tags": []
          },
          "execution_count": 69
        }
      ]
    },
    {
      "cell_type": "code",
      "metadata": {
        "colab": {
          "base_uri": "https://localhost:8080/",
          "height": 151
        },
        "id": "z264fcHIQpVO",
        "outputId": "5a053a18-1dcb-436b-dde0-c3ae6e434fd8"
      },
      "source": [
        "w_genre[w_genre['artists'].str.contains('Beatles')].head()"
      ],
      "execution_count": 32,
      "outputs": [
        {
          "output_type": "execute_result",
          "data": {
            "text/html": [
              "<div>\n",
              "<style scoped>\n",
              "    .dataframe tbody tr th:only-of-type {\n",
              "        vertical-align: middle;\n",
              "    }\n",
              "\n",
              "    .dataframe tbody tr th {\n",
              "        vertical-align: top;\n",
              "    }\n",
              "\n",
              "    .dataframe thead th {\n",
              "        text-align: right;\n",
              "    }\n",
              "</style>\n",
              "<table border=\"1\" class=\"dataframe\">\n",
              "  <thead>\n",
              "    <tr style=\"text-align: right;\">\n",
              "      <th></th>\n",
              "      <th>artists</th>\n",
              "      <th>acousticness</th>\n",
              "      <th>danceability</th>\n",
              "      <th>duration_ms</th>\n",
              "      <th>energy</th>\n",
              "      <th>instrumentalness</th>\n",
              "      <th>liveness</th>\n",
              "      <th>loudness</th>\n",
              "      <th>speechiness</th>\n",
              "      <th>tempo</th>\n",
              "      <th>valence</th>\n",
              "      <th>popularity</th>\n",
              "      <th>key</th>\n",
              "      <th>mode</th>\n",
              "      <th>count</th>\n",
              "      <th>genres</th>\n",
              "    </tr>\n",
              "  </thead>\n",
              "  <tbody>\n",
              "    <tr>\n",
              "      <th>27812</th>\n",
              "      <td>The Beatles</td>\n",
              "      <td>0.359416</td>\n",
              "      <td>0.522841</td>\n",
              "      <td>174328.818622</td>\n",
              "      <td>0.550951</td>\n",
              "      <td>0.051673</td>\n",
              "      <td>0.223441</td>\n",
              "      <td>-9.634748</td>\n",
              "      <td>0.053343</td>\n",
              "      <td>121.691207</td>\n",
              "      <td>0.623417</td>\n",
              "      <td>46.371221</td>\n",
              "      <td>0</td>\n",
              "      <td>1</td>\n",
              "      <td>827</td>\n",
              "      <td>['beatlesque', 'british invasion', 'classic ro...</td>\n",
              "    </tr>\n",
              "  </tbody>\n",
              "</table>\n",
              "</div>"
            ],
            "text/plain": [
              "           artists  ...                                             genres\n",
              "27812  The Beatles  ...  ['beatlesque', 'british invasion', 'classic ro...\n",
              "\n",
              "[1 rows x 16 columns]"
            ]
          },
          "metadata": {
            "tags": []
          },
          "execution_count": 32
        }
      ]
    },
    {
      "cell_type": "code",
      "metadata": {
        "colab": {
          "base_uri": "https://localhost:8080/"
        },
        "id": "69cc_hOFSkvc",
        "outputId": "27cc68e2-0c00-4ea3-92c6-4d6bf9823a9b"
      },
      "source": [
        "w_genre[w_genre['artists'].str.contains('Beatles')]['genres'].values"
      ],
      "execution_count": 37,
      "outputs": [
        {
          "output_type": "execute_result",
          "data": {
            "text/plain": [
              "array([\"['beatlesque', 'british invasion', 'classic rock', 'merseybeat', 'psychedelic rock', 'rock']\"],\n",
              "      dtype=object)"
            ]
          },
          "metadata": {
            "tags": []
          },
          "execution_count": 37
        }
      ]
    },
    {
      "cell_type": "markdown",
      "metadata": {
        "id": "idbtmJJWS_At"
      },
      "source": [
        "・曲まで指定するのは手間なので、今回は一部を抽出することに"
      ]
    },
    {
      "cell_type": "code",
      "metadata": {
        "colab": {
          "base_uri": "https://localhost:8080/",
          "height": 168
        },
        "id": "8rUeMtU5Tcwh",
        "outputId": "fff10d89-433e-4d36-d07d-dabccabeca4e"
      },
      "source": [
        "w_genre[w_genre['artists'].str.contains('Red Hot Chili Peppers')].head()"
      ],
      "execution_count": 40,
      "outputs": [
        {
          "output_type": "execute_result",
          "data": {
            "text/html": [
              "<div>\n",
              "<style scoped>\n",
              "    .dataframe tbody tr th:only-of-type {\n",
              "        vertical-align: middle;\n",
              "    }\n",
              "\n",
              "    .dataframe tbody tr th {\n",
              "        vertical-align: top;\n",
              "    }\n",
              "\n",
              "    .dataframe thead th {\n",
              "        text-align: right;\n",
              "    }\n",
              "</style>\n",
              "<table border=\"1\" class=\"dataframe\">\n",
              "  <thead>\n",
              "    <tr style=\"text-align: right;\">\n",
              "      <th></th>\n",
              "      <th>artists</th>\n",
              "      <th>acousticness</th>\n",
              "      <th>danceability</th>\n",
              "      <th>duration_ms</th>\n",
              "      <th>energy</th>\n",
              "      <th>instrumentalness</th>\n",
              "      <th>liveness</th>\n",
              "      <th>loudness</th>\n",
              "      <th>speechiness</th>\n",
              "      <th>tempo</th>\n",
              "      <th>valence</th>\n",
              "      <th>popularity</th>\n",
              "      <th>key</th>\n",
              "      <th>mode</th>\n",
              "      <th>count</th>\n",
              "      <th>genres</th>\n",
              "    </tr>\n",
              "  </thead>\n",
              "  <tbody>\n",
              "    <tr>\n",
              "      <th>23474</th>\n",
              "      <td>Red Hot Chili Peppers</td>\n",
              "      <td>0.046795</td>\n",
              "      <td>0.551488</td>\n",
              "      <td>244306.738095</td>\n",
              "      <td>0.818286</td>\n",
              "      <td>0.073462</td>\n",
              "      <td>0.179633</td>\n",
              "      <td>-5.761917</td>\n",
              "      <td>0.07655</td>\n",
              "      <td>115.787006</td>\n",
              "      <td>0.50911</td>\n",
              "      <td>47.744048</td>\n",
              "      <td>0</td>\n",
              "      <td>1</td>\n",
              "      <td>336</td>\n",
              "      <td>['alternative rock', 'funk metal', 'funk rock'...</td>\n",
              "    </tr>\n",
              "  </tbody>\n",
              "</table>\n",
              "</div>"
            ],
            "text/plain": [
              "                     artists  ...                                             genres\n",
              "23474  Red Hot Chili Peppers  ...  ['alternative rock', 'funk metal', 'funk rock'...\n",
              "\n",
              "[1 rows x 16 columns]"
            ]
          },
          "metadata": {
            "tags": []
          },
          "execution_count": 40
        }
      ]
    },
    {
      "cell_type": "code",
      "metadata": {
        "colab": {
          "base_uri": "https://localhost:8080/"
        },
        "id": "ZYaU_N0YQ5wH",
        "outputId": "18c5cfc4-2d95-42ff-8675-7468bad778bc"
      },
      "source": [
        "w_genre[w_genre['artists'].str.contains('Red Hot')]['genres'].values"
      ],
      "execution_count": 38,
      "outputs": [
        {
          "output_type": "execute_result",
          "data": {
            "text/plain": [
              "array([\"['big band']\",\n",
              "       \"['alternative rock', 'funk metal', 'funk rock', 'permanent wave', 'rock']\"],\n",
              "      dtype=object)"
            ]
          },
          "metadata": {
            "tags": []
          },
          "execution_count": 38
        }
      ]
    },
    {
      "cell_type": "code",
      "metadata": {
        "colab": {
          "base_uri": "https://localhost:8080/",
          "height": 168
        },
        "id": "96puqfJ-Tjaj",
        "outputId": "7be35dcc-a7df-4356-cda4-efcc5e789b22"
      },
      "source": [
        "w_genre[w_genre['artists'].str.contains('Nirvana')].head()"
      ],
      "execution_count": 42,
      "outputs": [
        {
          "output_type": "execute_result",
          "data": {
            "text/html": [
              "<div>\n",
              "<style scoped>\n",
              "    .dataframe tbody tr th:only-of-type {\n",
              "        vertical-align: middle;\n",
              "    }\n",
              "\n",
              "    .dataframe tbody tr th {\n",
              "        vertical-align: top;\n",
              "    }\n",
              "\n",
              "    .dataframe thead th {\n",
              "        text-align: right;\n",
              "    }\n",
              "</style>\n",
              "<table border=\"1\" class=\"dataframe\">\n",
              "  <thead>\n",
              "    <tr style=\"text-align: right;\">\n",
              "      <th></th>\n",
              "      <th>artists</th>\n",
              "      <th>acousticness</th>\n",
              "      <th>danceability</th>\n",
              "      <th>duration_ms</th>\n",
              "      <th>energy</th>\n",
              "      <th>instrumentalness</th>\n",
              "      <th>liveness</th>\n",
              "      <th>loudness</th>\n",
              "      <th>speechiness</th>\n",
              "      <th>tempo</th>\n",
              "      <th>valence</th>\n",
              "      <th>popularity</th>\n",
              "      <th>key</th>\n",
              "      <th>mode</th>\n",
              "      <th>count</th>\n",
              "      <th>genres</th>\n",
              "    </tr>\n",
              "  </thead>\n",
              "  <tbody>\n",
              "    <tr>\n",
              "      <th>20852</th>\n",
              "      <td>Nirvana</td>\n",
              "      <td>0.100228</td>\n",
              "      <td>0.422727</td>\n",
              "      <td>209237.034091</td>\n",
              "      <td>0.777477</td>\n",
              "      <td>0.120109</td>\n",
              "      <td>0.191686</td>\n",
              "      <td>-8.187722</td>\n",
              "      <td>0.061487</td>\n",
              "      <td>134.333795</td>\n",
              "      <td>0.448493</td>\n",
              "      <td>44.511364</td>\n",
              "      <td>1</td>\n",
              "      <td>1</td>\n",
              "      <td>352</td>\n",
              "      <td>['alternative rock', 'grunge', 'permanent wave...</td>\n",
              "    </tr>\n",
              "  </tbody>\n",
              "</table>\n",
              "</div>"
            ],
            "text/plain": [
              "       artists  ...                                             genres\n",
              "20852  Nirvana  ...  ['alternative rock', 'grunge', 'permanent wave...\n",
              "\n",
              "[1 rows x 16 columns]"
            ]
          },
          "metadata": {
            "tags": []
          },
          "execution_count": 42
        }
      ]
    },
    {
      "cell_type": "code",
      "metadata": {
        "colab": {
          "base_uri": "https://localhost:8080/"
        },
        "id": "jc7ixKArTxKm",
        "outputId": "ce2ebeca-1311-4751-b99d-febdc0b5bf4a"
      },
      "source": [
        "w_genre[w_genre['artists'].str.contains('Nirvana')]['genres'].values"
      ],
      "execution_count": 43,
      "outputs": [
        {
          "output_type": "execute_result",
          "data": {
            "text/plain": [
              "array([\"['alternative rock', 'grunge', 'permanent wave', 'rock']\"],\n",
              "      dtype=object)"
            ]
          },
          "metadata": {
            "tags": []
          },
          "execution_count": 43
        }
      ]
    },
    {
      "cell_type": "code",
      "metadata": {
        "colab": {
          "base_uri": "https://localhost:8080/",
          "height": 267
        },
        "id": "cAPAuOEDT70I",
        "outputId": "a5234d55-edee-4fc5-81d5-985df2c3728c"
      },
      "source": [
        "# japanese・・・というgenreがあることに気づく\n",
        "w_genre[w_genre['genres'].str.contains('japanese')].head(2)"
      ],
      "execution_count": 68,
      "outputs": [
        {
          "output_type": "execute_result",
          "data": {
            "text/html": [
              "<div>\n",
              "<style scoped>\n",
              "    .dataframe tbody tr th:only-of-type {\n",
              "        vertical-align: middle;\n",
              "    }\n",
              "\n",
              "    .dataframe tbody tr th {\n",
              "        vertical-align: top;\n",
              "    }\n",
              "\n",
              "    .dataframe thead th {\n",
              "        text-align: right;\n",
              "    }\n",
              "</style>\n",
              "<table border=\"1\" class=\"dataframe\">\n",
              "  <thead>\n",
              "    <tr style=\"text-align: right;\">\n",
              "      <th></th>\n",
              "      <th>artists</th>\n",
              "      <th>acousticness</th>\n",
              "      <th>danceability</th>\n",
              "      <th>duration_ms</th>\n",
              "      <th>energy</th>\n",
              "      <th>instrumentalness</th>\n",
              "      <th>liveness</th>\n",
              "      <th>loudness</th>\n",
              "      <th>speechiness</th>\n",
              "      <th>tempo</th>\n",
              "      <th>valence</th>\n",
              "      <th>popularity</th>\n",
              "      <th>key</th>\n",
              "      <th>mode</th>\n",
              "      <th>count</th>\n",
              "      <th>genres</th>\n",
              "    </tr>\n",
              "  </thead>\n",
              "  <tbody>\n",
              "    <tr>\n",
              "      <th>264</th>\n",
              "      <td>AAA</td>\n",
              "      <td>0.024215</td>\n",
              "      <td>0.628000</td>\n",
              "      <td>269366.500000</td>\n",
              "      <td>0.855000</td>\n",
              "      <td>0.000000</td>\n",
              "      <td>0.360500</td>\n",
              "      <td>-5.223500</td>\n",
              "      <td>0.080050</td>\n",
              "      <td>135.9975</td>\n",
              "      <td>0.770</td>\n",
              "      <td>30.500000</td>\n",
              "      <td>7</td>\n",
              "      <td>1</td>\n",
              "      <td>4</td>\n",
              "      <td>['japanese alternative rock', 'japanese electr...</td>\n",
              "    </tr>\n",
              "    <tr>\n",
              "      <th>309</th>\n",
              "      <td>ASIAN KUNG-FU GENERATION</td>\n",
              "      <td>0.000531</td>\n",
              "      <td>0.429167</td>\n",
              "      <td>226842.333333</td>\n",
              "      <td>0.917667</td>\n",
              "      <td>0.112867</td>\n",
              "      <td>0.112667</td>\n",
              "      <td>-4.071333</td>\n",
              "      <td>0.063433</td>\n",
              "      <td>156.0245</td>\n",
              "      <td>0.526</td>\n",
              "      <td>54.333333</td>\n",
              "      <td>4</td>\n",
              "      <td>1</td>\n",
              "      <td>12</td>\n",
              "      <td>['anime', 'anime score', 'j-pop', 'j-poprock',...</td>\n",
              "    </tr>\n",
              "  </tbody>\n",
              "</table>\n",
              "</div>"
            ],
            "text/plain": [
              "                      artists  ...                                             genres\n",
              "264                       AAA  ...  ['japanese alternative rock', 'japanese electr...\n",
              "309  ASIAN KUNG-FU GENERATION  ...  ['anime', 'anime score', 'j-pop', 'j-poprock',...\n",
              "\n",
              "[2 rows x 16 columns]"
            ]
          },
          "metadata": {
            "tags": []
          },
          "execution_count": 68
        }
      ]
    },
    {
      "cell_type": "code",
      "metadata": {
        "colab": {
          "base_uri": "https://localhost:8080/",
          "height": 1000
        },
        "id": "2m0naKwNUH_L",
        "outputId": "b6d7c87c-8e0c-4900-cc80-ab388e3a4ddf"
      },
      "source": [
        "w_genre[w_genre['genres'].str.contains('j-poprock')].head(100)"
      ],
      "execution_count": 93,
      "outputs": [
        {
          "output_type": "execute_result",
          "data": {
            "text/html": [
              "<div>\n",
              "<style scoped>\n",
              "    .dataframe tbody tr th:only-of-type {\n",
              "        vertical-align: middle;\n",
              "    }\n",
              "\n",
              "    .dataframe tbody tr th {\n",
              "        vertical-align: top;\n",
              "    }\n",
              "\n",
              "    .dataframe thead th {\n",
              "        text-align: right;\n",
              "    }\n",
              "</style>\n",
              "<table border=\"1\" class=\"dataframe\">\n",
              "  <thead>\n",
              "    <tr style=\"text-align: right;\">\n",
              "      <th></th>\n",
              "      <th>artists</th>\n",
              "      <th>acousticness</th>\n",
              "      <th>danceability</th>\n",
              "      <th>duration_ms</th>\n",
              "      <th>energy</th>\n",
              "      <th>instrumentalness</th>\n",
              "      <th>liveness</th>\n",
              "      <th>loudness</th>\n",
              "      <th>speechiness</th>\n",
              "      <th>tempo</th>\n",
              "      <th>valence</th>\n",
              "      <th>popularity</th>\n",
              "      <th>key</th>\n",
              "      <th>mode</th>\n",
              "      <th>count</th>\n",
              "      <th>genres</th>\n",
              "    </tr>\n",
              "  </thead>\n",
              "  <tbody>\n",
              "    <tr>\n",
              "      <th>309</th>\n",
              "      <td>ASIAN KUNG-FU GENERATION</td>\n",
              "      <td>0.000531</td>\n",
              "      <td>0.429167</td>\n",
              "      <td>226842.333333</td>\n",
              "      <td>0.917667</td>\n",
              "      <td>0.112867</td>\n",
              "      <td>0.112667</td>\n",
              "      <td>-4.071333</td>\n",
              "      <td>0.063433</td>\n",
              "      <td>156.024500</td>\n",
              "      <td>0.526000</td>\n",
              "      <td>54.333333</td>\n",
              "      <td>4</td>\n",
              "      <td>1</td>\n",
              "      <td>12</td>\n",
              "      <td>['anime', 'anime score', 'j-pop', 'j-poprock',...</td>\n",
              "    </tr>\n",
              "    <tr>\n",
              "      <th>1865</th>\n",
              "      <td>Aqua Timez</td>\n",
              "      <td>0.000482</td>\n",
              "      <td>0.506500</td>\n",
              "      <td>270553.000000</td>\n",
              "      <td>0.936000</td>\n",
              "      <td>0.000000</td>\n",
              "      <td>0.221500</td>\n",
              "      <td>-4.049000</td>\n",
              "      <td>0.058250</td>\n",
              "      <td>114.878500</td>\n",
              "      <td>0.525000</td>\n",
              "      <td>53.500000</td>\n",
              "      <td>7</td>\n",
              "      <td>1</td>\n",
              "      <td>4</td>\n",
              "      <td>['anime', 'j-pop', 'j-poprock', 'j-rock']</td>\n",
              "    </tr>\n",
              "    <tr>\n",
              "      <th>2141</th>\n",
              "      <td>Asia</td>\n",
              "      <td>0.172587</td>\n",
              "      <td>0.358533</td>\n",
              "      <td>281324.466667</td>\n",
              "      <td>0.780000</td>\n",
              "      <td>0.000237</td>\n",
              "      <td>0.225353</td>\n",
              "      <td>-8.781800</td>\n",
              "      <td>0.055820</td>\n",
              "      <td>127.092933</td>\n",
              "      <td>0.411333</td>\n",
              "      <td>36.800000</td>\n",
              "      <td>0</td>\n",
              "      <td>0</td>\n",
              "      <td>30</td>\n",
              "      <td>['anime', 'anime score', 'j-pop', 'j-poprock',...</td>\n",
              "    </tr>\n",
              "    <tr>\n",
              "      <th>2416</th>\n",
              "      <td>BRADIO</td>\n",
              "      <td>0.016700</td>\n",
              "      <td>0.450000</td>\n",
              "      <td>210084.000000</td>\n",
              "      <td>0.857000</td>\n",
              "      <td>0.000000</td>\n",
              "      <td>0.202000</td>\n",
              "      <td>-2.350000</td>\n",
              "      <td>0.039800</td>\n",
              "      <td>139.064000</td>\n",
              "      <td>0.755000</td>\n",
              "      <td>63.000000</td>\n",
              "      <td>6</td>\n",
              "      <td>1</td>\n",
              "      <td>2</td>\n",
              "      <td>['anime latino', 'j-poprock', 'otacore']</td>\n",
              "    </tr>\n",
              "    <tr>\n",
              "      <th>2426</th>\n",
              "      <td>BURNOUT SYNDROMES</td>\n",
              "      <td>0.012250</td>\n",
              "      <td>0.394000</td>\n",
              "      <td>244640.000000</td>\n",
              "      <td>0.950000</td>\n",
              "      <td>0.000000</td>\n",
              "      <td>0.347000</td>\n",
              "      <td>-1.587000</td>\n",
              "      <td>0.101350</td>\n",
              "      <td>136.371000</td>\n",
              "      <td>0.351000</td>\n",
              "      <td>66.000000</td>\n",
              "      <td>11</td>\n",
              "      <td>1</td>\n",
              "      <td>4</td>\n",
              "      <td>['anime rock', 'j-poprock', 'otacore']</td>\n",
              "    </tr>\n",
              "    <tr>\n",
              "      <th>4206</th>\n",
              "      <td>CHEMISTRY</td>\n",
              "      <td>0.004870</td>\n",
              "      <td>0.385000</td>\n",
              "      <td>215040.000000</td>\n",
              "      <td>0.912000</td>\n",
              "      <td>0.000011</td>\n",
              "      <td>0.092600</td>\n",
              "      <td>-4.198000</td>\n",
              "      <td>0.105000</td>\n",
              "      <td>127.038000</td>\n",
              "      <td>0.312000</td>\n",
              "      <td>56.000000</td>\n",
              "      <td>1</td>\n",
              "      <td>0</td>\n",
              "      <td>2</td>\n",
              "      <td>['j-pop', 'j-poprock']</td>\n",
              "    </tr>\n",
              "    <tr>\n",
              "      <th>7546</th>\n",
              "      <td>Do As Infinity</td>\n",
              "      <td>0.032700</td>\n",
              "      <td>0.377000</td>\n",
              "      <td>249900.000000</td>\n",
              "      <td>0.731500</td>\n",
              "      <td>0.000257</td>\n",
              "      <td>0.099850</td>\n",
              "      <td>-4.409000</td>\n",
              "      <td>0.034900</td>\n",
              "      <td>158.369500</td>\n",
              "      <td>0.388500</td>\n",
              "      <td>47.500000</td>\n",
              "      <td>10</td>\n",
              "      <td>1</td>\n",
              "      <td>4</td>\n",
              "      <td>['anime', 'j-pop', 'j-poprock']</td>\n",
              "    </tr>\n",
              "    <tr>\n",
              "      <th>9201</th>\n",
              "      <td>FUNKIST</td>\n",
              "      <td>0.005716</td>\n",
              "      <td>0.441000</td>\n",
              "      <td>214233.500000</td>\n",
              "      <td>0.884500</td>\n",
              "      <td>0.000000</td>\n",
              "      <td>0.195000</td>\n",
              "      <td>-4.113000</td>\n",
              "      <td>0.047000</td>\n",
              "      <td>102.497500</td>\n",
              "      <td>0.680000</td>\n",
              "      <td>57.500000</td>\n",
              "      <td>1</td>\n",
              "      <td>0</td>\n",
              "      <td>4</td>\n",
              "      <td>['j-poprock']</td>\n",
              "    </tr>\n",
              "    <tr>\n",
              "      <th>9355</th>\n",
              "      <td>Fear, and Loathing in Las Vegas</td>\n",
              "      <td>0.000788</td>\n",
              "      <td>0.266000</td>\n",
              "      <td>222060.000000</td>\n",
              "      <td>0.987500</td>\n",
              "      <td>0.000001</td>\n",
              "      <td>0.205000</td>\n",
              "      <td>-0.131500</td>\n",
              "      <td>0.182000</td>\n",
              "      <td>187.606500</td>\n",
              "      <td>0.435000</td>\n",
              "      <td>62.500000</td>\n",
              "      <td>6</td>\n",
              "      <td>0</td>\n",
              "      <td>4</td>\n",
              "      <td>['j-metal', 'j-poprock', 'j-rock', 'japanese m...</td>\n",
              "    </tr>\n",
              "    <tr>\n",
              "      <th>10975</th>\n",
              "      <td>Goose house</td>\n",
              "      <td>0.391000</td>\n",
              "      <td>0.491000</td>\n",
              "      <td>254133.000000</td>\n",
              "      <td>0.879000</td>\n",
              "      <td>0.000000</td>\n",
              "      <td>0.341000</td>\n",
              "      <td>-2.722000</td>\n",
              "      <td>0.065200</td>\n",
              "      <td>160.092000</td>\n",
              "      <td>0.571000</td>\n",
              "      <td>59.000000</td>\n",
              "      <td>6</td>\n",
              "      <td>0</td>\n",
              "      <td>2</td>\n",
              "      <td>['j-poprock']</td>\n",
              "    </tr>\n",
              "    <tr>\n",
              "      <th>11814</th>\n",
              "      <td>Hello Sleepwalkers</td>\n",
              "      <td>0.000891</td>\n",
              "      <td>0.406000</td>\n",
              "      <td>170640.000000</td>\n",
              "      <td>0.959000</td>\n",
              "      <td>0.000000</td>\n",
              "      <td>0.327000</td>\n",
              "      <td>-3.014000</td>\n",
              "      <td>0.095200</td>\n",
              "      <td>94.277000</td>\n",
              "      <td>0.571000</td>\n",
              "      <td>64.000000</td>\n",
              "      <td>0</td>\n",
              "      <td>1</td>\n",
              "      <td>2</td>\n",
              "      <td>['anime rock', 'j-poprock', 'j-rock', 'okinawa...</td>\n",
              "    </tr>\n",
              "    <tr>\n",
              "      <th>12394</th>\n",
              "      <td>Ikimonogakari</td>\n",
              "      <td>0.065375</td>\n",
              "      <td>0.505750</td>\n",
              "      <td>236683.250000</td>\n",
              "      <td>0.936000</td>\n",
              "      <td>0.000000</td>\n",
              "      <td>0.213800</td>\n",
              "      <td>-2.427250</td>\n",
              "      <td>0.083050</td>\n",
              "      <td>156.534750</td>\n",
              "      <td>0.660750</td>\n",
              "      <td>65.750000</td>\n",
              "      <td>7</td>\n",
              "      <td>0</td>\n",
              "      <td>8</td>\n",
              "      <td>['anime', 'j-pop', 'j-poprock']</td>\n",
              "    </tr>\n",
              "    <tr>\n",
              "      <th>12797</th>\n",
              "      <td>JUDY AND MARY</td>\n",
              "      <td>0.131000</td>\n",
              "      <td>0.484000</td>\n",
              "      <td>255200.000000</td>\n",
              "      <td>0.779000</td>\n",
              "      <td>0.000001</td>\n",
              "      <td>0.376000</td>\n",
              "      <td>-4.980000</td>\n",
              "      <td>0.043600</td>\n",
              "      <td>169.869000</td>\n",
              "      <td>0.584000</td>\n",
              "      <td>42.000000</td>\n",
              "      <td>9</td>\n",
              "      <td>1</td>\n",
              "      <td>2</td>\n",
              "      <td>['anime', 'classic j-pop', 'j-pop', 'j-poprock...</td>\n",
              "    </tr>\n",
              "    <tr>\n",
              "      <th>13917</th>\n",
              "      <td>Joe Inoue</td>\n",
              "      <td>0.001180</td>\n",
              "      <td>0.369000</td>\n",
              "      <td>208013.000000</td>\n",
              "      <td>0.868000</td>\n",
              "      <td>0.041500</td>\n",
              "      <td>0.090100</td>\n",
              "      <td>-4.810000</td>\n",
              "      <td>0.056600</td>\n",
              "      <td>166.021000</td>\n",
              "      <td>0.760000</td>\n",
              "      <td>45.000000</td>\n",
              "      <td>11</td>\n",
              "      <td>1</td>\n",
              "      <td>2</td>\n",
              "      <td>['j-poprock', 'otacore']</td>\n",
              "    </tr>\n",
              "    <tr>\n",
              "      <th>14901</th>\n",
              "      <td>KANA-BOON</td>\n",
              "      <td>0.000105</td>\n",
              "      <td>0.453500</td>\n",
              "      <td>251413.000000</td>\n",
              "      <td>0.852000</td>\n",
              "      <td>0.069540</td>\n",
              "      <td>0.209200</td>\n",
              "      <td>-3.234000</td>\n",
              "      <td>0.076350</td>\n",
              "      <td>133.169000</td>\n",
              "      <td>0.456000</td>\n",
              "      <td>67.500000</td>\n",
              "      <td>6</td>\n",
              "      <td>1</td>\n",
              "      <td>4</td>\n",
              "      <td>['anime', 'j-pop', 'j-poprock', 'j-rock']</td>\n",
              "    </tr>\n",
              "    <tr>\n",
              "      <th>17801</th>\n",
              "      <td>MINMI</td>\n",
              "      <td>0.165000</td>\n",
              "      <td>0.576000</td>\n",
              "      <td>297664.000000</td>\n",
              "      <td>0.551000</td>\n",
              "      <td>0.010300</td>\n",
              "      <td>0.114500</td>\n",
              "      <td>-7.423500</td>\n",
              "      <td>0.033500</td>\n",
              "      <td>131.113000</td>\n",
              "      <td>0.528500</td>\n",
              "      <td>49.000000</td>\n",
              "      <td>11</td>\n",
              "      <td>0</td>\n",
              "      <td>4</td>\n",
              "      <td>['j-pop', 'j-poprock', 'j-reggae']</td>\n",
              "    </tr>\n",
              "    <tr>\n",
              "      <th>19980</th>\n",
              "      <td>Motohiro Hata</td>\n",
              "      <td>0.076000</td>\n",
              "      <td>0.373000</td>\n",
              "      <td>232360.000000</td>\n",
              "      <td>0.914000</td>\n",
              "      <td>0.000000</td>\n",
              "      <td>0.669000</td>\n",
              "      <td>-4.185000</td>\n",
              "      <td>0.056500</td>\n",
              "      <td>168.210000</td>\n",
              "      <td>0.560000</td>\n",
              "      <td>60.000000</td>\n",
              "      <td>0</td>\n",
              "      <td>1</td>\n",
              "      <td>2</td>\n",
              "      <td>['j-acoustic', 'j-pop', 'j-poprock', 'j-rock',...</td>\n",
              "    </tr>\n",
              "    <tr>\n",
              "      <th>20061</th>\n",
              "      <td>Mr.C</td>\n",
              "      <td>0.018416</td>\n",
              "      <td>0.718444</td>\n",
              "      <td>432927.777778</td>\n",
              "      <td>0.867000</td>\n",
              "      <td>0.776030</td>\n",
              "      <td>0.103244</td>\n",
              "      <td>-8.171889</td>\n",
              "      <td>0.059767</td>\n",
              "      <td>125.700889</td>\n",
              "      <td>0.595222</td>\n",
              "      <td>0.000000</td>\n",
              "      <td>6</td>\n",
              "      <td>1</td>\n",
              "      <td>18</td>\n",
              "      <td>['classic j-pop', 'j-pop', 'j-poprock', 'j-rock']</td>\n",
              "    </tr>\n",
              "    <tr>\n",
              "      <th>21083</th>\n",
              "      <td>ORANGE RANGE</td>\n",
              "      <td>0.061800</td>\n",
              "      <td>0.565000</td>\n",
              "      <td>257013.000000</td>\n",
              "      <td>0.945000</td>\n",
              "      <td>0.004560</td>\n",
              "      <td>0.357000</td>\n",
              "      <td>-4.780000</td>\n",
              "      <td>0.050000</td>\n",
              "      <td>127.877000</td>\n",
              "      <td>0.617000</td>\n",
              "      <td>56.000000</td>\n",
              "      <td>5</td>\n",
              "      <td>1</td>\n",
              "      <td>2</td>\n",
              "      <td>['j-pop', 'j-poprock', 'j-rock', 'okinawan pop']</td>\n",
              "    </tr>\n",
              "    <tr>\n",
              "      <th>22685</th>\n",
              "      <td>PornoGraffitti</td>\n",
              "      <td>0.032400</td>\n",
              "      <td>0.562000</td>\n",
              "      <td>251827.000000</td>\n",
              "      <td>0.946500</td>\n",
              "      <td>0.000000</td>\n",
              "      <td>0.190300</td>\n",
              "      <td>-4.065500</td>\n",
              "      <td>0.079100</td>\n",
              "      <td>152.526000</td>\n",
              "      <td>0.677000</td>\n",
              "      <td>48.500000</td>\n",
              "      <td>7</td>\n",
              "      <td>1</td>\n",
              "      <td>4</td>\n",
              "      <td>['j-pop', 'j-poprock', 'j-rock']</td>\n",
              "    </tr>\n",
              "    <tr>\n",
              "      <th>23018</th>\n",
              "      <td>RADWIMPS</td>\n",
              "      <td>0.000439</td>\n",
              "      <td>0.321000</td>\n",
              "      <td>285880.000000</td>\n",
              "      <td>0.906000</td>\n",
              "      <td>0.000000</td>\n",
              "      <td>0.086200</td>\n",
              "      <td>-3.967000</td>\n",
              "      <td>0.141000</td>\n",
              "      <td>189.776000</td>\n",
              "      <td>0.641000</td>\n",
              "      <td>66.000000</td>\n",
              "      <td>11</td>\n",
              "      <td>1</td>\n",
              "      <td>2</td>\n",
              "      <td>['j-pop', 'j-poprock', 'j-rock', 'japanese emo...</td>\n",
              "    </tr>\n",
              "    <tr>\n",
              "      <th>25528</th>\n",
              "      <td>Sheena Ringo</td>\n",
              "      <td>0.113000</td>\n",
              "      <td>0.425000</td>\n",
              "      <td>235867.000000</td>\n",
              "      <td>0.916000</td>\n",
              "      <td>0.000398</td>\n",
              "      <td>0.108000</td>\n",
              "      <td>-2.909000</td>\n",
              "      <td>0.118000</td>\n",
              "      <td>199.694000</td>\n",
              "      <td>0.659000</td>\n",
              "      <td>59.000000</td>\n",
              "      <td>8</td>\n",
              "      <td>1</td>\n",
              "      <td>2</td>\n",
              "      <td>['j-pop', 'j-poprock', 'j-rock']</td>\n",
              "    </tr>\n",
              "    <tr>\n",
              "      <th>25641</th>\n",
              "      <td>Shoko Nakagawa</td>\n",
              "      <td>0.001370</td>\n",
              "      <td>0.398000</td>\n",
              "      <td>251640.000000</td>\n",
              "      <td>0.971000</td>\n",
              "      <td>0.000323</td>\n",
              "      <td>0.344000</td>\n",
              "      <td>-2.873000</td>\n",
              "      <td>0.125000</td>\n",
              "      <td>174.021000</td>\n",
              "      <td>0.502000</td>\n",
              "      <td>54.000000</td>\n",
              "      <td>11</td>\n",
              "      <td>0</td>\n",
              "      <td>2</td>\n",
              "      <td>['anime', 'anime rock', 'anime score', 'j-pop'...</td>\n",
              "    </tr>\n",
              "    <tr>\n",
              "      <th>27277</th>\n",
              "      <td>T.M.Revolution</td>\n",
              "      <td>0.002960</td>\n",
              "      <td>0.360000</td>\n",
              "      <td>224760.000000</td>\n",
              "      <td>0.984000</td>\n",
              "      <td>0.000000</td>\n",
              "      <td>0.301000</td>\n",
              "      <td>-3.156000</td>\n",
              "      <td>0.223000</td>\n",
              "      <td>164.935000</td>\n",
              "      <td>0.503000</td>\n",
              "      <td>50.000000</td>\n",
              "      <td>1</td>\n",
              "      <td>0</td>\n",
              "      <td>2</td>\n",
              "      <td>['anime', 'anime score', 'classic j-pop', 'j-p...</td>\n",
              "    </tr>\n",
              "    <tr>\n",
              "      <th>27298</th>\n",
              "      <td>THE ORAL CIGARETTES</td>\n",
              "      <td>0.003180</td>\n",
              "      <td>0.526000</td>\n",
              "      <td>250973.000000</td>\n",
              "      <td>0.981000</td>\n",
              "      <td>0.001610</td>\n",
              "      <td>0.187000</td>\n",
              "      <td>-1.820000</td>\n",
              "      <td>0.111000</td>\n",
              "      <td>142.016000</td>\n",
              "      <td>0.781000</td>\n",
              "      <td>72.000000</td>\n",
              "      <td>8</td>\n",
              "      <td>1</td>\n",
              "      <td>2</td>\n",
              "      <td>['j-pop', 'j-poprock', 'j-rock', 'japanese ind...</td>\n",
              "    </tr>\n",
              "    <tr>\n",
              "      <th>27311</th>\n",
              "      <td>TK from Ling tosite sigure</td>\n",
              "      <td>0.439250</td>\n",
              "      <td>0.512500</td>\n",
              "      <td>233597.000000</td>\n",
              "      <td>0.639500</td>\n",
              "      <td>0.000000</td>\n",
              "      <td>0.085600</td>\n",
              "      <td>-4.419000</td>\n",
              "      <td>0.089850</td>\n",
              "      <td>109.556500</td>\n",
              "      <td>0.322000</td>\n",
              "      <td>69.500000</td>\n",
              "      <td>7</td>\n",
              "      <td>1</td>\n",
              "      <td>4</td>\n",
              "      <td>['j-poprock', 'j-rock', 'otacore']</td>\n",
              "    </tr>\n",
              "    <tr>\n",
              "      <th>28886</th>\n",
              "      <td>The Prophet</td>\n",
              "      <td>0.276500</td>\n",
              "      <td>0.445500</td>\n",
              "      <td>254197.000000</td>\n",
              "      <td>0.883500</td>\n",
              "      <td>0.505500</td>\n",
              "      <td>0.101850</td>\n",
              "      <td>-5.586500</td>\n",
              "      <td>0.152550</td>\n",
              "      <td>164.985000</td>\n",
              "      <td>0.157000</td>\n",
              "      <td>3.500000</td>\n",
              "      <td>7</td>\n",
              "      <td>0</td>\n",
              "      <td>4</td>\n",
              "      <td>['j-poprock', 'j-rock', 'japanese alternative ...</td>\n",
              "    </tr>\n",
              "    <tr>\n",
              "      <th>29863</th>\n",
              "      <td>Tosi</td>\n",
              "      <td>0.036200</td>\n",
              "      <td>0.768000</td>\n",
              "      <td>483500.000000</td>\n",
              "      <td>0.368000</td>\n",
              "      <td>0.949000</td>\n",
              "      <td>0.108000</td>\n",
              "      <td>-13.515000</td>\n",
              "      <td>0.096700</td>\n",
              "      <td>128.031000</td>\n",
              "      <td>0.034400</td>\n",
              "      <td>0.000000</td>\n",
              "      <td>1</td>\n",
              "      <td>1</td>\n",
              "      <td>2</td>\n",
              "      <td>['j-poprock', 'j-rock', 'otacore']</td>\n",
              "    </tr>\n",
              "    <tr>\n",
              "      <th>30201</th>\n",
              "      <td>UVERworld</td>\n",
              "      <td>0.058200</td>\n",
              "      <td>0.500000</td>\n",
              "      <td>233680.000000</td>\n",
              "      <td>0.919000</td>\n",
              "      <td>0.000000</td>\n",
              "      <td>0.257000</td>\n",
              "      <td>-4.442000</td>\n",
              "      <td>0.128000</td>\n",
              "      <td>83.956000</td>\n",
              "      <td>0.659000</td>\n",
              "      <td>55.000000</td>\n",
              "      <td>1</td>\n",
              "      <td>0</td>\n",
              "      <td>2</td>\n",
              "      <td>['anime', 'j-pop', 'j-poprock', 'otacore']</td>\n",
              "    </tr>\n",
              "    <tr>\n",
              "      <th>30581</th>\n",
              "      <td>Vickeblanka</td>\n",
              "      <td>0.001390</td>\n",
              "      <td>0.592000</td>\n",
              "      <td>209573.000000</td>\n",
              "      <td>0.937000</td>\n",
              "      <td>0.000017</td>\n",
              "      <td>0.189000</td>\n",
              "      <td>-4.905000</td>\n",
              "      <td>0.044200</td>\n",
              "      <td>102.073000</td>\n",
              "      <td>0.529000</td>\n",
              "      <td>68.000000</td>\n",
              "      <td>11</td>\n",
              "      <td>1</td>\n",
              "      <td>2</td>\n",
              "      <td>['anime', 'anime rock', 'j-pop', 'j-poprock', ...</td>\n",
              "    </tr>\n",
              "    <tr>\n",
              "      <th>31500</th>\n",
              "      <td>YUI</td>\n",
              "      <td>0.022210</td>\n",
              "      <td>0.555000</td>\n",
              "      <td>221860.000000</td>\n",
              "      <td>0.862500</td>\n",
              "      <td>0.000000</td>\n",
              "      <td>0.345000</td>\n",
              "      <td>-3.346000</td>\n",
              "      <td>0.039300</td>\n",
              "      <td>110.333500</td>\n",
              "      <td>0.612500</td>\n",
              "      <td>60.500000</td>\n",
              "      <td>2</td>\n",
              "      <td>1</td>\n",
              "      <td>4</td>\n",
              "      <td>['j-pop', 'j-poprock']</td>\n",
              "    </tr>\n",
              "    <tr>\n",
              "      <th>31907</th>\n",
              "      <td>amazarashi</td>\n",
              "      <td>0.014200</td>\n",
              "      <td>0.594000</td>\n",
              "      <td>217627.000000</td>\n",
              "      <td>0.951000</td>\n",
              "      <td>0.000001</td>\n",
              "      <td>0.096500</td>\n",
              "      <td>-1.339000</td>\n",
              "      <td>0.069600</td>\n",
              "      <td>102.040000</td>\n",
              "      <td>0.641000</td>\n",
              "      <td>66.000000</td>\n",
              "      <td>6</td>\n",
              "      <td>0</td>\n",
              "      <td>2</td>\n",
              "      <td>['anime', 'anime rock', 'j-pop', 'j-poprock', ...</td>\n",
              "    </tr>\n",
              "    <tr>\n",
              "      <th>31961</th>\n",
              "      <td>flumpool</td>\n",
              "      <td>0.002861</td>\n",
              "      <td>0.488000</td>\n",
              "      <td>301547.666667</td>\n",
              "      <td>0.839000</td>\n",
              "      <td>0.148157</td>\n",
              "      <td>0.881333</td>\n",
              "      <td>-4.187667</td>\n",
              "      <td>0.050600</td>\n",
              "      <td>108.692667</td>\n",
              "      <td>0.381000</td>\n",
              "      <td>2.666667</td>\n",
              "      <td>11</td>\n",
              "      <td>1</td>\n",
              "      <td>6</td>\n",
              "      <td>['anime', 'anime rock', 'j-pop', 'j-poprock', ...</td>\n",
              "    </tr>\n",
              "    <tr>\n",
              "      <th>32037</th>\n",
              "      <td>moumoon</td>\n",
              "      <td>0.848500</td>\n",
              "      <td>0.511357</td>\n",
              "      <td>291166.642857</td>\n",
              "      <td>0.344421</td>\n",
              "      <td>0.065809</td>\n",
              "      <td>0.524143</td>\n",
              "      <td>-9.316857</td>\n",
              "      <td>0.042964</td>\n",
              "      <td>123.035357</td>\n",
              "      <td>0.329100</td>\n",
              "      <td>1.571429</td>\n",
              "      <td>2</td>\n",
              "      <td>1</td>\n",
              "      <td>28</td>\n",
              "      <td>['j-poprock']</td>\n",
              "    </tr>\n",
              "  </tbody>\n",
              "</table>\n",
              "</div>"
            ],
            "text/plain": [
              "                               artists  ...                                             genres\n",
              "309           ASIAN KUNG-FU GENERATION  ...  ['anime', 'anime score', 'j-pop', 'j-poprock',...\n",
              "1865                        Aqua Timez  ...          ['anime', 'j-pop', 'j-poprock', 'j-rock']\n",
              "2141                              Asia  ...  ['anime', 'anime score', 'j-pop', 'j-poprock',...\n",
              "2416                            BRADIO  ...           ['anime latino', 'j-poprock', 'otacore']\n",
              "2426                 BURNOUT SYNDROMES  ...             ['anime rock', 'j-poprock', 'otacore']\n",
              "4206                         CHEMISTRY  ...                             ['j-pop', 'j-poprock']\n",
              "7546                    Do As Infinity  ...                    ['anime', 'j-pop', 'j-poprock']\n",
              "9201                           FUNKIST  ...                                      ['j-poprock']\n",
              "9355   Fear, and Loathing in Las Vegas  ...  ['j-metal', 'j-poprock', 'j-rock', 'japanese m...\n",
              "10975                      Goose house  ...                                      ['j-poprock']\n",
              "11814               Hello Sleepwalkers  ...  ['anime rock', 'j-poprock', 'j-rock', 'okinawa...\n",
              "12394                    Ikimonogakari  ...                    ['anime', 'j-pop', 'j-poprock']\n",
              "12797                    JUDY AND MARY  ...  ['anime', 'classic j-pop', 'j-pop', 'j-poprock...\n",
              "13917                        Joe Inoue  ...                           ['j-poprock', 'otacore']\n",
              "14901                        KANA-BOON  ...          ['anime', 'j-pop', 'j-poprock', 'j-rock']\n",
              "17801                            MINMI  ...                 ['j-pop', 'j-poprock', 'j-reggae']\n",
              "19980                    Motohiro Hata  ...  ['j-acoustic', 'j-pop', 'j-poprock', 'j-rock',...\n",
              "20061                             Mr.C  ...  ['classic j-pop', 'j-pop', 'j-poprock', 'j-rock']\n",
              "21083                     ORANGE RANGE  ...   ['j-pop', 'j-poprock', 'j-rock', 'okinawan pop']\n",
              "22685                   PornoGraffitti  ...                   ['j-pop', 'j-poprock', 'j-rock']\n",
              "23018                         RADWIMPS  ...  ['j-pop', 'j-poprock', 'j-rock', 'japanese emo...\n",
              "25528                     Sheena Ringo  ...                   ['j-pop', 'j-poprock', 'j-rock']\n",
              "25641                   Shoko Nakagawa  ...  ['anime', 'anime rock', 'anime score', 'j-pop'...\n",
              "27277                   T.M.Revolution  ...  ['anime', 'anime score', 'classic j-pop', 'j-p...\n",
              "27298              THE ORAL CIGARETTES  ...  ['j-pop', 'j-poprock', 'j-rock', 'japanese ind...\n",
              "27311       TK from Ling tosite sigure  ...                 ['j-poprock', 'j-rock', 'otacore']\n",
              "28886                      The Prophet  ...  ['j-poprock', 'j-rock', 'japanese alternative ...\n",
              "29863                             Tosi  ...                 ['j-poprock', 'j-rock', 'otacore']\n",
              "30201                        UVERworld  ...         ['anime', 'j-pop', 'j-poprock', 'otacore']\n",
              "30581                      Vickeblanka  ...  ['anime', 'anime rock', 'j-pop', 'j-poprock', ...\n",
              "31500                              YUI  ...                             ['j-pop', 'j-poprock']\n",
              "31907                       amazarashi  ...  ['anime', 'anime rock', 'j-pop', 'j-poprock', ...\n",
              "31961                         flumpool  ...  ['anime', 'anime rock', 'j-pop', 'j-poprock', ...\n",
              "32037                          moumoon  ...                                      ['j-poprock']\n",
              "\n",
              "[34 rows x 16 columns]"
            ]
          },
          "metadata": {
            "tags": []
          },
          "execution_count": 93
        }
      ]
    },
    {
      "cell_type": "markdown",
      "metadata": {
        "id": "UJdyAQadVaL1"
      },
      "source": [
        "ここは決めで、以下ジャンルで可視化してみる  \n",
        "・rock  \n",
        "・j-rock  \n",
        "・alternative rock  "
      ]
    },
    {
      "cell_type": "code",
      "metadata": {
        "id": "8AvLQQDpVBiB"
      },
      "source": [
        "genre_pickup = genre[(genre['genres'] == 'rock') | (genre['genres'] == 'j-rock') | (genre['genres'] == 'alternative rock') | (genre['genres'] == 'anime score')]"
      ],
      "execution_count": 63,
      "outputs": []
    },
    {
      "cell_type": "code",
      "metadata": {
        "colab": {
          "base_uri": "https://localhost:8080/",
          "height": 227
        },
        "id": "8H5xDpE7Y1m1",
        "outputId": "e56b0716-8102-44ae-8ed3-d602c9674409"
      },
      "source": [
        "genre_pickup.head()"
      ],
      "execution_count": 64,
      "outputs": [
        {
          "output_type": "execute_result",
          "data": {
            "text/html": [
              "<div>\n",
              "<style scoped>\n",
              "    .dataframe tbody tr th:only-of-type {\n",
              "        vertical-align: middle;\n",
              "    }\n",
              "\n",
              "    .dataframe tbody tr th {\n",
              "        vertical-align: top;\n",
              "    }\n",
              "\n",
              "    .dataframe thead th {\n",
              "        text-align: right;\n",
              "    }\n",
              "</style>\n",
              "<table border=\"1\" class=\"dataframe\">\n",
              "  <thead>\n",
              "    <tr style=\"text-align: right;\">\n",
              "      <th></th>\n",
              "      <th>genres</th>\n",
              "      <th>acousticness</th>\n",
              "      <th>danceability</th>\n",
              "      <th>duration_ms</th>\n",
              "      <th>energy</th>\n",
              "      <th>instrumentalness</th>\n",
              "      <th>liveness</th>\n",
              "      <th>loudness</th>\n",
              "      <th>speechiness</th>\n",
              "      <th>tempo</th>\n",
              "      <th>valence</th>\n",
              "      <th>popularity</th>\n",
              "      <th>key</th>\n",
              "      <th>mode</th>\n",
              "    </tr>\n",
              "  </thead>\n",
              "  <tbody>\n",
              "    <tr>\n",
              "      <th>65</th>\n",
              "      <td>alternative rock</td>\n",
              "      <td>0.151137</td>\n",
              "      <td>0.476421</td>\n",
              "      <td>244563.446764</td>\n",
              "      <td>0.714645</td>\n",
              "      <td>0.179047</td>\n",
              "      <td>0.192964</td>\n",
              "      <td>-8.294449</td>\n",
              "      <td>0.057739</td>\n",
              "      <td>125.595160</td>\n",
              "      <td>0.498318</td>\n",
              "      <td>40.754842</td>\n",
              "      <td>7</td>\n",
              "      <td>1</td>\n",
              "    </tr>\n",
              "    <tr>\n",
              "      <th>103</th>\n",
              "      <td>anime score</td>\n",
              "      <td>0.327248</td>\n",
              "      <td>0.526965</td>\n",
              "      <td>215883.220743</td>\n",
              "      <td>0.643203</td>\n",
              "      <td>0.278874</td>\n",
              "      <td>0.205817</td>\n",
              "      <td>-8.916126</td>\n",
              "      <td>0.096367</td>\n",
              "      <td>124.259024</td>\n",
              "      <td>0.497530</td>\n",
              "      <td>40.158996</td>\n",
              "      <td>7</td>\n",
              "      <td>1</td>\n",
              "    </tr>\n",
              "    <tr>\n",
              "      <th>1618</th>\n",
              "      <td>j-rock</td>\n",
              "      <td>0.067003</td>\n",
              "      <td>0.512806</td>\n",
              "      <td>271394.675556</td>\n",
              "      <td>0.846453</td>\n",
              "      <td>0.188371</td>\n",
              "      <td>0.242855</td>\n",
              "      <td>-4.997464</td>\n",
              "      <td>0.076984</td>\n",
              "      <td>132.500894</td>\n",
              "      <td>0.516408</td>\n",
              "      <td>39.711389</td>\n",
              "      <td>0</td>\n",
              "      <td>1</td>\n",
              "    </tr>\n",
              "    <tr>\n",
              "      <th>2546</th>\n",
              "      <td>rock</td>\n",
              "      <td>0.160153</td>\n",
              "      <td>0.503948</td>\n",
              "      <td>249724.257208</td>\n",
              "      <td>0.707018</td>\n",
              "      <td>0.101601</td>\n",
              "      <td>0.211169</td>\n",
              "      <td>-8.169173</td>\n",
              "      <td>0.065831</td>\n",
              "      <td>124.709260</td>\n",
              "      <td>0.510827</td>\n",
              "      <td>42.365989</td>\n",
              "      <td>9</td>\n",
              "      <td>1</td>\n",
              "    </tr>\n",
              "  </tbody>\n",
              "</table>\n",
              "</div>"
            ],
            "text/plain": [
              "                genres  acousticness  danceability  ...  popularity  key  mode\n",
              "65    alternative rock      0.151137      0.476421  ...   40.754842    7     1\n",
              "103        anime score      0.327248      0.526965  ...   40.158996    7     1\n",
              "1618            j-rock      0.067003      0.512806  ...   39.711389    0     1\n",
              "2546              rock      0.160153      0.503948  ...   42.365989    9     1\n",
              "\n",
              "[4 rows x 14 columns]"
            ]
          },
          "metadata": {
            "tags": []
          },
          "execution_count": 64
        }
      ]
    },
    {
      "cell_type": "code",
      "metadata": {
        "colab": {
          "base_uri": "https://localhost:8080/",
          "height": 298
        },
        "id": "paaffpLgXJa3",
        "outputId": "bbff25be-3921-4c32-d52b-7faef154ec8b"
      },
      "source": [
        "#うまくいかない\n",
        "genre_pickup.plot(kind='bar')"
      ],
      "execution_count": 65,
      "outputs": [
        {
          "output_type": "execute_result",
          "data": {
            "text/plain": [
              "<matplotlib.axes._subplots.AxesSubplot at 0x7f3e3cb8e278>"
            ]
          },
          "metadata": {
            "tags": []
          },
          "execution_count": 65
        },
        {
          "output_type": "display_data",
          "data": {
            "image/png": "[encoded data removed]",
            "text/plain": [
              "<Figure size 432x288 with 1 Axes>"
            ]
          },
          "metadata": {
            "tags": [],
            "needs_background": "light"
          }
        }
      ]
    },
    {
      "cell_type": "code",
      "metadata": {
        "colab": {
          "base_uri": "https://localhost:8080/",
          "height": 158
        },
        "id": "bSmQYTBrYv_C",
        "outputId": "04c3a9f6-1fb5-4d48-d306-7d65eadce3a2"
      },
      "source": [
        "#もはやBarに表示するくらいでいいのではないか\n",
        "## https://qiita.com/hrappuccino/items/16c20645c60578391017\n",
        "genre_pickup.style.bar()"
      ],
      "execution_count": 166,
      "outputs": [
        {
          "output_type": "execute_result",
          "data": {
            "text/html": [
              "<style  type=\"text/css\" >\n",
              "#T_162bd352_6901_11eb_b10d_0242ac1c0002row0_col1{\n",
              "            width:  10em;\n",
              "             height:  80%;\n",
              "            background:  linear-gradient(90deg,#d65f5f 32.3%, transparent 32.3%);\n",
              "        }#T_162bd352_6901_11eb_b10d_0242ac1c0002row0_col2,#T_162bd352_6901_11eb_b10d_0242ac1c0002row0_col6,#T_162bd352_6901_11eb_b10d_0242ac1c0002row0_col8,#T_162bd352_6901_11eb_b10d_0242ac1c0002row0_col13,#T_162bd352_6901_11eb_b10d_0242ac1c0002row1_col3,#T_162bd352_6901_11eb_b10d_0242ac1c0002row1_col4,#T_162bd352_6901_11eb_b10d_0242ac1c0002row1_col7,#T_162bd352_6901_11eb_b10d_0242ac1c0002row1_col9,#T_162bd352_6901_11eb_b10d_0242ac1c0002row1_col10,#T_162bd352_6901_11eb_b10d_0242ac1c0002row1_col13,#T_162bd352_6901_11eb_b10d_0242ac1c0002row2_col1,#T_162bd352_6901_11eb_b10d_0242ac1c0002row2_col11,#T_162bd352_6901_11eb_b10d_0242ac1c0002row2_col12,#T_162bd352_6901_11eb_b10d_0242ac1c0002row2_col13,#T_162bd352_6901_11eb_b10d_0242ac1c0002row3_col5,#T_162bd352_6901_11eb_b10d_0242ac1c0002row3_col13{\n",
              "            width:  10em;\n",
              "             height:  80%;\n",
              "        }#T_162bd352_6901_11eb_b10d_0242ac1c0002row0_col3{\n",
              "            width:  10em;\n",
              "             height:  80%;\n",
              "            background:  linear-gradient(90deg,#d65f5f 51.7%, transparent 51.7%);\n",
              "        }#T_162bd352_6901_11eb_b10d_0242ac1c0002row0_col4{\n",
              "            width:  10em;\n",
              "             height:  80%;\n",
              "            background:  linear-gradient(90deg,#d65f5f 35.1%, transparent 35.1%);\n",
              "        }#T_162bd352_6901_11eb_b10d_0242ac1c0002row0_col5{\n",
              "            width:  10em;\n",
              "             height:  80%;\n",
              "            background:  linear-gradient(90deg,#d65f5f 43.7%, transparent 43.7%);\n",
              "        }#T_162bd352_6901_11eb_b10d_0242ac1c0002row0_col7{\n",
              "            width:  10em;\n",
              "             height:  80%;\n",
              "            background:  linear-gradient(90deg,#d65f5f 15.9%, transparent 15.9%);\n",
              "        }#T_162bd352_6901_11eb_b10d_0242ac1c0002row0_col9{\n",
              "            width:  10em;\n",
              "             height:  80%;\n",
              "            background:  linear-gradient(90deg,#d65f5f 16.2%, transparent 16.2%);\n",
              "        }#T_162bd352_6901_11eb_b10d_0242ac1c0002row0_col10{\n",
              "            width:  10em;\n",
              "             height:  80%;\n",
              "            background:  linear-gradient(90deg,#d65f5f 4.2%, transparent 4.2%);\n",
              "        }#T_162bd352_6901_11eb_b10d_0242ac1c0002row0_col11{\n",
              "            width:  10em;\n",
              "             height:  80%;\n",
              "            background:  linear-gradient(90deg,#d65f5f 39.3%, transparent 39.3%);\n",
              "        }#T_162bd352_6901_11eb_b10d_0242ac1c0002row0_col12,#T_162bd352_6901_11eb_b10d_0242ac1c0002row1_col12{\n",
              "            width:  10em;\n",
              "             height:  80%;\n",
              "            background:  linear-gradient(90deg,#d65f5f 77.8%, transparent 77.8%);\n",
              "        }#T_162bd352_6901_11eb_b10d_0242ac1c0002row1_col1,#T_162bd352_6901_11eb_b10d_0242ac1c0002row1_col2,#T_162bd352_6901_11eb_b10d_0242ac1c0002row1_col5,#T_162bd352_6901_11eb_b10d_0242ac1c0002row1_col8,#T_162bd352_6901_11eb_b10d_0242ac1c0002row2_col3,#T_162bd352_6901_11eb_b10d_0242ac1c0002row2_col4,#T_162bd352_6901_11eb_b10d_0242ac1c0002row2_col6,#T_162bd352_6901_11eb_b10d_0242ac1c0002row2_col7,#T_162bd352_6901_11eb_b10d_0242ac1c0002row2_col9,#T_162bd352_6901_11eb_b10d_0242ac1c0002row2_col10,#T_162bd352_6901_11eb_b10d_0242ac1c0002row3_col11,#T_162bd352_6901_11eb_b10d_0242ac1c0002row3_col12{\n",
              "            width:  10em;\n",
              "             height:  80%;\n",
              "            background:  linear-gradient(90deg,#d65f5f 100.0%, transparent 100.0%);\n",
              "        }#T_162bd352_6901_11eb_b10d_0242ac1c0002row1_col6{\n",
              "            width:  10em;\n",
              "             height:  80%;\n",
              "            background:  linear-gradient(90deg,#d65f5f 25.8%, transparent 25.8%);\n",
              "        }#T_162bd352_6901_11eb_b10d_0242ac1c0002row1_col11{\n",
              "            width:  10em;\n",
              "             height:  80%;\n",
              "            background:  linear-gradient(90deg,#d65f5f 16.9%, transparent 16.9%);\n",
              "        }#T_162bd352_6901_11eb_b10d_0242ac1c0002row2_col2{\n",
              "            width:  10em;\n",
              "             height:  80%;\n",
              "            background:  linear-gradient(90deg,#d65f5f 72.0%, transparent 72.0%);\n",
              "        }#T_162bd352_6901_11eb_b10d_0242ac1c0002row2_col5{\n",
              "            width:  10em;\n",
              "             height:  80%;\n",
              "            background:  linear-gradient(90deg,#d65f5f 48.9%, transparent 48.9%);\n",
              "        }#T_162bd352_6901_11eb_b10d_0242ac1c0002row2_col8{\n",
              "            width:  10em;\n",
              "             height:  80%;\n",
              "            background:  linear-gradient(90deg,#d65f5f 49.8%, transparent 49.8%);\n",
              "        }#T_162bd352_6901_11eb_b10d_0242ac1c0002row3_col1{\n",
              "            width:  10em;\n",
              "             height:  80%;\n",
              "            background:  linear-gradient(90deg,#d65f5f 35.8%, transparent 35.8%);\n",
              "        }#T_162bd352_6901_11eb_b10d_0242ac1c0002row3_col2{\n",
              "            width:  10em;\n",
              "             height:  80%;\n",
              "            background:  linear-gradient(90deg,#d65f5f 54.5%, transparent 54.5%);\n",
              "        }#T_162bd352_6901_11eb_b10d_0242ac1c0002row3_col3{\n",
              "            width:  10em;\n",
              "             height:  80%;\n",
              "            background:  linear-gradient(90deg,#d65f5f 61.0%, transparent 61.0%);\n",
              "        }#T_162bd352_6901_11eb_b10d_0242ac1c0002row3_col4{\n",
              "            width:  10em;\n",
              "             height:  80%;\n",
              "            background:  linear-gradient(90deg,#d65f5f 31.4%, transparent 31.4%);\n",
              "        }#T_162bd352_6901_11eb_b10d_0242ac1c0002row3_col6{\n",
              "            width:  10em;\n",
              "             height:  80%;\n",
              "            background:  linear-gradient(90deg,#d65f5f 36.5%, transparent 36.5%);\n",
              "        }#T_162bd352_6901_11eb_b10d_0242ac1c0002row3_col7{\n",
              "            width:  10em;\n",
              "             height:  80%;\n",
              "            background:  linear-gradient(90deg,#d65f5f 19.1%, transparent 19.1%);\n",
              "        }#T_162bd352_6901_11eb_b10d_0242ac1c0002row3_col8{\n",
              "            width:  10em;\n",
              "             height:  80%;\n",
              "            background:  linear-gradient(90deg,#d65f5f 20.9%, transparent 20.9%);\n",
              "        }#T_162bd352_6901_11eb_b10d_0242ac1c0002row3_col9{\n",
              "            width:  10em;\n",
              "             height:  80%;\n",
              "            background:  linear-gradient(90deg,#d65f5f 5.5%, transparent 5.5%);\n",
              "        }#T_162bd352_6901_11eb_b10d_0242ac1c0002row3_col10{\n",
              "            width:  10em;\n",
              "             height:  80%;\n",
              "            background:  linear-gradient(90deg,#d65f5f 70.4%, transparent 70.4%);\n",
              "        }</style><table id=\"T_162bd352_6901_11eb_b10d_0242ac1c0002\" ><thead>    <tr>        <th class=\"blank level0\" ></th>        <th class=\"col_heading level0 col0\" >genres</th>        <th class=\"col_heading level0 col1\" >acousticness</th>        <th class=\"col_heading level0 col2\" >danceability</th>        <th class=\"col_heading level0 col3\" >duration_ms</th>        <th class=\"col_heading level0 col4\" >energy</th>        <th class=\"col_heading level0 col5\" >instrumentalness</th>        <th class=\"col_heading level0 col6\" >liveness</th>        <th class=\"col_heading level0 col7\" >loudness</th>        <th class=\"col_heading level0 col8\" >speechiness</th>        <th class=\"col_heading level0 col9\" >tempo</th>        <th class=\"col_heading level0 col10\" >valence</th>        <th class=\"col_heading level0 col11\" >popularity</th>        <th class=\"col_heading level0 col12\" >key</th>        <th class=\"col_heading level0 col13\" >mode</th>    </tr></thead><tbody>\n",
              "                <tr>\n",
              "                        <th id=\"T_162bd352_6901_11eb_b10d_0242ac1c0002level0_row0\" class=\"row_heading level0 row0\" >65</th>\n",
              "                        <td id=\"T_162bd352_6901_11eb_b10d_0242ac1c0002row0_col0\" class=\"data row0 col0\" >alternative rock</td>\n",
              "                        <td id=\"T_162bd352_6901_11eb_b10d_0242ac1c0002row0_col1\" class=\"data row0 col1\" >0.151137</td>\n",
              "                        <td id=\"T_162bd352_6901_11eb_b10d_0242ac1c0002row0_col2\" class=\"data row0 col2\" >0.476421</td>\n",
              "                        <td id=\"T_162bd352_6901_11eb_b10d_0242ac1c0002row0_col3\" class=\"data row0 col3\" >244563.446764</td>\n",
              "                        <td id=\"T_162bd352_6901_11eb_b10d_0242ac1c0002row0_col4\" class=\"data row0 col4\" >0.714645</td>\n",
              "                        <td id=\"T_162bd352_6901_11eb_b10d_0242ac1c0002row0_col5\" class=\"data row0 col5\" >0.179047</td>\n",
              "                        <td id=\"T_162bd352_6901_11eb_b10d_0242ac1c0002row0_col6\" class=\"data row0 col6\" >0.192964</td>\n",
              "                        <td id=\"T_162bd352_6901_11eb_b10d_0242ac1c0002row0_col7\" class=\"data row0 col7\" >-8.294449</td>\n",
              "                        <td id=\"T_162bd352_6901_11eb_b10d_0242ac1c0002row0_col8\" class=\"data row0 col8\" >0.057739</td>\n",
              "                        <td id=\"T_162bd352_6901_11eb_b10d_0242ac1c0002row0_col9\" class=\"data row0 col9\" >125.595160</td>\n",
              "                        <td id=\"T_162bd352_6901_11eb_b10d_0242ac1c0002row0_col10\" class=\"data row0 col10\" >0.498318</td>\n",
              "                        <td id=\"T_162bd352_6901_11eb_b10d_0242ac1c0002row0_col11\" class=\"data row0 col11\" >40.754842</td>\n",
              "                        <td id=\"T_162bd352_6901_11eb_b10d_0242ac1c0002row0_col12\" class=\"data row0 col12\" >7</td>\n",
              "                        <td id=\"T_162bd352_6901_11eb_b10d_0242ac1c0002row0_col13\" class=\"data row0 col13\" >1</td>\n",
              "            </tr>\n",
              "            <tr>\n",
              "                        <th id=\"T_162bd352_6901_11eb_b10d_0242ac1c0002level0_row1\" class=\"row_heading level0 row1\" >103</th>\n",
              "                        <td id=\"T_162bd352_6901_11eb_b10d_0242ac1c0002row1_col0\" class=\"data row1 col0\" >anime score</td>\n",
              "                        <td id=\"T_162bd352_6901_11eb_b10d_0242ac1c0002row1_col1\" class=\"data row1 col1\" >0.327248</td>\n",
              "                        <td id=\"T_162bd352_6901_11eb_b10d_0242ac1c0002row1_col2\" class=\"data row1 col2\" >0.526965</td>\n",
              "                        <td id=\"T_162bd352_6901_11eb_b10d_0242ac1c0002row1_col3\" class=\"data row1 col3\" >215883.220743</td>\n",
              "                        <td id=\"T_162bd352_6901_11eb_b10d_0242ac1c0002row1_col4\" class=\"data row1 col4\" >0.643203</td>\n",
              "                        <td id=\"T_162bd352_6901_11eb_b10d_0242ac1c0002row1_col5\" class=\"data row1 col5\" >0.278874</td>\n",
              "                        <td id=\"T_162bd352_6901_11eb_b10d_0242ac1c0002row1_col6\" class=\"data row1 col6\" >0.205817</td>\n",
              "                        <td id=\"T_162bd352_6901_11eb_b10d_0242ac1c0002row1_col7\" class=\"data row1 col7\" >-8.916126</td>\n",
              "                        <td id=\"T_162bd352_6901_11eb_b10d_0242ac1c0002row1_col8\" class=\"data row1 col8\" >0.096367</td>\n",
              "                        <td id=\"T_162bd352_6901_11eb_b10d_0242ac1c0002row1_col9\" class=\"data row1 col9\" >124.259024</td>\n",
              "                        <td id=\"T_162bd352_6901_11eb_b10d_0242ac1c0002row1_col10\" class=\"data row1 col10\" >0.497530</td>\n",
              "                        <td id=\"T_162bd352_6901_11eb_b10d_0242ac1c0002row1_col11\" class=\"data row1 col11\" >40.158996</td>\n",
              "                        <td id=\"T_162bd352_6901_11eb_b10d_0242ac1c0002row1_col12\" class=\"data row1 col12\" >7</td>\n",
              "                        <td id=\"T_162bd352_6901_11eb_b10d_0242ac1c0002row1_col13\" class=\"data row1 col13\" >1</td>\n",
              "            </tr>\n",
              "            <tr>\n",
              "                        <th id=\"T_162bd352_6901_11eb_b10d_0242ac1c0002level0_row2\" class=\"row_heading level0 row2\" >1618</th>\n",
              "                        <td id=\"T_162bd352_6901_11eb_b10d_0242ac1c0002row2_col0\" class=\"data row2 col0\" >j-rock</td>\n",
              "                        <td id=\"T_162bd352_6901_11eb_b10d_0242ac1c0002row2_col1\" class=\"data row2 col1\" >0.067003</td>\n",
              "                        <td id=\"T_162bd352_6901_11eb_b10d_0242ac1c0002row2_col2\" class=\"data row2 col2\" >0.512806</td>\n",
              "                        <td id=\"T_162bd352_6901_11eb_b10d_0242ac1c0002row2_col3\" class=\"data row2 col3\" >271394.675556</td>\n",
              "                        <td id=\"T_162bd352_6901_11eb_b10d_0242ac1c0002row2_col4\" class=\"data row2 col4\" >0.846453</td>\n",
              "                        <td id=\"T_162bd352_6901_11eb_b10d_0242ac1c0002row2_col5\" class=\"data row2 col5\" >0.188371</td>\n",
              "                        <td id=\"T_162bd352_6901_11eb_b10d_0242ac1c0002row2_col6\" class=\"data row2 col6\" >0.242855</td>\n",
              "                        <td id=\"T_162bd352_6901_11eb_b10d_0242ac1c0002row2_col7\" class=\"data row2 col7\" >-4.997464</td>\n",
              "                        <td id=\"T_162bd352_6901_11eb_b10d_0242ac1c0002row2_col8\" class=\"data row2 col8\" >0.076984</td>\n",
              "                        <td id=\"T_162bd352_6901_11eb_b10d_0242ac1c0002row2_col9\" class=\"data row2 col9\" >132.500894</td>\n",
              "                        <td id=\"T_162bd352_6901_11eb_b10d_0242ac1c0002row2_col10\" class=\"data row2 col10\" >0.516408</td>\n",
              "                        <td id=\"T_162bd352_6901_11eb_b10d_0242ac1c0002row2_col11\" class=\"data row2 col11\" >39.711389</td>\n",
              "                        <td id=\"T_162bd352_6901_11eb_b10d_0242ac1c0002row2_col12\" class=\"data row2 col12\" >0</td>\n",
              "                        <td id=\"T_162bd352_6901_11eb_b10d_0242ac1c0002row2_col13\" class=\"data row2 col13\" >1</td>\n",
              "            </tr>\n",
              "            <tr>\n",
              "                        <th id=\"T_162bd352_6901_11eb_b10d_0242ac1c0002level0_row3\" class=\"row_heading level0 row3\" >2546</th>\n",
              "                        <td id=\"T_162bd352_6901_11eb_b10d_0242ac1c0002row3_col0\" class=\"data row3 col0\" >rock</td>\n",
              "                        <td id=\"T_162bd352_6901_11eb_b10d_0242ac1c0002row3_col1\" class=\"data row3 col1\" >0.160153</td>\n",
              "                        <td id=\"T_162bd352_6901_11eb_b10d_0242ac1c0002row3_col2\" class=\"data row3 col2\" >0.503948</td>\n",
              "                        <td id=\"T_162bd352_6901_11eb_b10d_0242ac1c0002row3_col3\" class=\"data row3 col3\" >249724.257208</td>\n",
              "                        <td id=\"T_162bd352_6901_11eb_b10d_0242ac1c0002row3_col4\" class=\"data row3 col4\" >0.707018</td>\n",
              "                        <td id=\"T_162bd352_6901_11eb_b10d_0242ac1c0002row3_col5\" class=\"data row3 col5\" >0.101601</td>\n",
              "                        <td id=\"T_162bd352_6901_11eb_b10d_0242ac1c0002row3_col6\" class=\"data row3 col6\" >0.211169</td>\n",
              "                        <td id=\"T_162bd352_6901_11eb_b10d_0242ac1c0002row3_col7\" class=\"data row3 col7\" >-8.169173</td>\n",
              "                        <td id=\"T_162bd352_6901_11eb_b10d_0242ac1c0002row3_col8\" class=\"data row3 col8\" >0.065831</td>\n",
              "                        <td id=\"T_162bd352_6901_11eb_b10d_0242ac1c0002row3_col9\" class=\"data row3 col9\" >124.709260</td>\n",
              "                        <td id=\"T_162bd352_6901_11eb_b10d_0242ac1c0002row3_col10\" class=\"data row3 col10\" >0.510827</td>\n",
              "                        <td id=\"T_162bd352_6901_11eb_b10d_0242ac1c0002row3_col11\" class=\"data row3 col11\" >42.365989</td>\n",
              "                        <td id=\"T_162bd352_6901_11eb_b10d_0242ac1c0002row3_col12\" class=\"data row3 col12\" >9</td>\n",
              "                        <td id=\"T_162bd352_6901_11eb_b10d_0242ac1c0002row3_col13\" class=\"data row3 col13\" >1</td>\n",
              "            </tr>\n",
              "    </tbody></table>"
            ],
            "text/plain": [
              "<pandas.io.formats.style.Styler at 0x7f3e27473a20>"
            ]
          },
          "metadata": {
            "tags": []
          },
          "execution_count": 166
        }
      ]
    },
    {
      "cell_type": "markdown",
      "metadata": {
        "id": "pOVpoS5NamfQ"
      },
      "source": [
        "・オルタナは一番のものがない。いろんなジャンルが入りすぎて、平均的なジャンルになったかも  \n",
        "・アニメはacousticess, danceability, instrument, speechnessが一番。感覚的にはわかる。結構打ち込み中心で楽器が強い曲多いかも  \n",
        "・j-rockについてはenergy,liveness,loudness,tempo,valenceが一番。明るい曲は比較的多いか\n",
        "・rockは人気！"
      ]
    },
    {
      "cell_type": "markdown",
      "metadata": {
        "id": "ziZC9SGFcBv2"
      },
      "source": [
        "# ここからは好きな曲をpickup"
      ]
    },
    {
      "cell_type": "code",
      "metadata": {
        "id": "6j57C-y2ZTjO"
      },
      "source": [
        "data = pd.read_csv(\"/content/data.csv\")"
      ],
      "execution_count": 70,
      "outputs": []
    },
    {
      "cell_type": "code",
      "metadata": {
        "colab": {
          "base_uri": "https://localhost:8080/",
          "height": 284
        },
        "id": "73-JEkX7eNEU",
        "outputId": "ec1976d9-e26c-4075-d875-642acafc9516"
      },
      "source": [
        "data.head(2)"
      ],
      "execution_count": 71,
      "outputs": [
        {
          "output_type": "execute_result",
          "data": {
            "text/html": [
              "<div>\n",
              "<style scoped>\n",
              "    .dataframe tbody tr th:only-of-type {\n",
              "        vertical-align: middle;\n",
              "    }\n",
              "\n",
              "    .dataframe tbody tr th {\n",
              "        vertical-align: top;\n",
              "    }\n",
              "\n",
              "    .dataframe thead th {\n",
              "        text-align: right;\n",
              "    }\n",
              "</style>\n",
              "<table border=\"1\" class=\"dataframe\">\n",
              "  <thead>\n",
              "    <tr style=\"text-align: right;\">\n",
              "      <th></th>\n",
              "      <th>acousticness</th>\n",
              "      <th>artists</th>\n",
              "      <th>danceability</th>\n",
              "      <th>duration_ms</th>\n",
              "      <th>energy</th>\n",
              "      <th>explicit</th>\n",
              "      <th>id</th>\n",
              "      <th>instrumentalness</th>\n",
              "      <th>key</th>\n",
              "      <th>liveness</th>\n",
              "      <th>loudness</th>\n",
              "      <th>mode</th>\n",
              "      <th>name</th>\n",
              "      <th>popularity</th>\n",
              "      <th>release_date</th>\n",
              "      <th>speechiness</th>\n",
              "      <th>tempo</th>\n",
              "      <th>valence</th>\n",
              "      <th>year</th>\n",
              "    </tr>\n",
              "  </thead>\n",
              "  <tbody>\n",
              "    <tr>\n",
              "      <th>0</th>\n",
              "      <td>0.991</td>\n",
              "      <td>['Mamie Smith']</td>\n",
              "      <td>0.598</td>\n",
              "      <td>168333</td>\n",
              "      <td>0.224</td>\n",
              "      <td>0</td>\n",
              "      <td>0cS0A1fUEUd1EW3FcF8AEI</td>\n",
              "      <td>0.000522</td>\n",
              "      <td>5</td>\n",
              "      <td>0.3790</td>\n",
              "      <td>-12.628</td>\n",
              "      <td>0</td>\n",
              "      <td>Keep A Song In Your Soul</td>\n",
              "      <td>12</td>\n",
              "      <td>1920</td>\n",
              "      <td>0.0936</td>\n",
              "      <td>149.976</td>\n",
              "      <td>0.634</td>\n",
              "      <td>1920</td>\n",
              "    </tr>\n",
              "    <tr>\n",
              "      <th>1</th>\n",
              "      <td>0.643</td>\n",
              "      <td>[\"Screamin' Jay Hawkins\"]</td>\n",
              "      <td>0.852</td>\n",
              "      <td>150200</td>\n",
              "      <td>0.517</td>\n",
              "      <td>0</td>\n",
              "      <td>0hbkKFIJm7Z05H8Zl9w30f</td>\n",
              "      <td>0.026400</td>\n",
              "      <td>5</td>\n",
              "      <td>0.0809</td>\n",
              "      <td>-7.261</td>\n",
              "      <td>0</td>\n",
              "      <td>I Put A Spell On You</td>\n",
              "      <td>7</td>\n",
              "      <td>1920-01-05</td>\n",
              "      <td>0.0534</td>\n",
              "      <td>86.889</td>\n",
              "      <td>0.950</td>\n",
              "      <td>1920</td>\n",
              "    </tr>\n",
              "  </tbody>\n",
              "</table>\n",
              "</div>"
            ],
            "text/plain": [
              "   acousticness                    artists  ...  valence  year\n",
              "0         0.991            ['Mamie Smith']  ...    0.634  1920\n",
              "1         0.643  [\"Screamin' Jay Hawkins\"]  ...    0.950  1920\n",
              "\n",
              "[2 rows x 19 columns]"
            ]
          },
          "metadata": {
            "tags": []
          },
          "execution_count": 71
        }
      ]
    },
    {
      "cell_type": "code",
      "metadata": {
        "id": "k4JQtCXRfNMY"
      },
      "source": [
        "# removing waste stuff(square bracket and quotation marks) from artist's name \n",
        "data['artists'] = data['artists'].apply(lambda x: x[1:-1].replace(\"'\", ''))\n",
        "# correcting data types \n",
        "data['release_date'] = pd.to_datetime(data['release_date'])\n",
        "# spotify['year'] = pd.to_datetime(spotify['year'].apply(lambda x: str(x)+'-01-01'))"
      ],
      "execution_count": 75,
      "outputs": []
    },
    {
      "cell_type": "code",
      "metadata": {
        "id": "zHVLfrMWeu12"
      },
      "source": [
        "id_list = [\n",
        "           '5ZBeML7Lf3FMEVviTyvi8l',#Twist And Shout\n",
        "           '3VbGCXWRiouAq8VyMYN2MI',#Love Me Do\n",
        "           '5ghIJDpPoe3CfHMGu71E6T',#Smells Like Teen Spirit\n",
        "           '4P5KoWXOxwuobLmHXLMobV',#Come As You Are\n",
        "           '64BbK9SFKH2jk86U3dGj2P',#Otherside\n",
        "           '1f2V8U1BiWaC9aJWmpOARe',#By the Way\n",
        "           '1VKr8751CzE7DB4AuEmS3V',#アフターダーク\n",
        "           '6nTiIhLmQ3FWhvrGafw2zj',#American Idiot\t\n",
        "           '305WCRhhS10XUcH6AEwZk6',#Are you gonna be my girl\n",
        "           '0CFtlafteObzOEuJdESQkb'#Eat The Rich\n",
        "           ]"
      ],
      "execution_count": 106,
      "outputs": []
    },
    {
      "cell_type": "code",
      "metadata": {
        "colab": {
          "base_uri": "https://localhost:8080/",
          "height": 216
        },
        "id": "PE9n3n-ue9TF",
        "outputId": "bb9303bc-4fb9-450c-cf50-9caa0c749dad"
      },
      "source": [
        "data[(data['artists'].str.contains('Aerosmith'))].head(2)"
      ],
      "execution_count": 105,
      "outputs": [
        {
          "output_type": "execute_result",
          "data": {
            "text/html": [
              "<div>\n",
              "<style scoped>\n",
              "    .dataframe tbody tr th:only-of-type {\n",
              "        vertical-align: middle;\n",
              "    }\n",
              "\n",
              "    .dataframe tbody tr th {\n",
              "        vertical-align: top;\n",
              "    }\n",
              "\n",
              "    .dataframe thead th {\n",
              "        text-align: right;\n",
              "    }\n",
              "</style>\n",
              "<table border=\"1\" class=\"dataframe\">\n",
              "  <thead>\n",
              "    <tr style=\"text-align: right;\">\n",
              "      <th></th>\n",
              "      <th>acousticness</th>\n",
              "      <th>artists</th>\n",
              "      <th>danceability</th>\n",
              "      <th>duration_ms</th>\n",
              "      <th>energy</th>\n",
              "      <th>explicit</th>\n",
              "      <th>id</th>\n",
              "      <th>instrumentalness</th>\n",
              "      <th>key</th>\n",
              "      <th>liveness</th>\n",
              "      <th>loudness</th>\n",
              "      <th>mode</th>\n",
              "      <th>name</th>\n",
              "      <th>popularity</th>\n",
              "      <th>release_date</th>\n",
              "      <th>speechiness</th>\n",
              "      <th>tempo</th>\n",
              "      <th>valence</th>\n",
              "      <th>year</th>\n",
              "    </tr>\n",
              "  </thead>\n",
              "  <tbody>\n",
              "    <tr>\n",
              "      <th>10463</th>\n",
              "      <td>0.3880</td>\n",
              "      <td>Aerosmith</td>\n",
              "      <td>0.307</td>\n",
              "      <td>266960</td>\n",
              "      <td>0.433</td>\n",
              "      <td>0</td>\n",
              "      <td>5MxNLUsfh7uzROypsoO5qe</td>\n",
              "      <td>0.000091</td>\n",
              "      <td>1</td>\n",
              "      <td>0.332</td>\n",
              "      <td>-10.057</td>\n",
              "      <td>1</td>\n",
              "      <td>Dream On</td>\n",
              "      <td>78</td>\n",
              "      <td>1973-01-05</td>\n",
              "      <td>0.029</td>\n",
              "      <td>160.900</td>\n",
              "      <td>0.224</td>\n",
              "      <td>1973</td>\n",
              "    </tr>\n",
              "    <tr>\n",
              "      <th>10742</th>\n",
              "      <td>0.0672</td>\n",
              "      <td>Aerosmith</td>\n",
              "      <td>0.565</td>\n",
              "      <td>233160</td>\n",
              "      <td>0.628</td>\n",
              "      <td>0</td>\n",
              "      <td>2ATTIE0sKIXysApJPlR3sB</td>\n",
              "      <td>0.000181</td>\n",
              "      <td>9</td>\n",
              "      <td>0.390</td>\n",
              "      <td>-10.368</td>\n",
              "      <td>1</td>\n",
              "      <td>Same Old Song and Dance</td>\n",
              "      <td>53</td>\n",
              "      <td>1974-03-15</td>\n",
              "      <td>0.033</td>\n",
              "      <td>133.194</td>\n",
              "      <td>0.706</td>\n",
              "      <td>1974</td>\n",
              "    </tr>\n",
              "  </tbody>\n",
              "</table>\n",
              "</div>"
            ],
            "text/plain": [
              "       acousticness    artists  danceability  ...    tempo  valence  year\n",
              "10463        0.3880  Aerosmith         0.307  ...  160.900    0.224  1973\n",
              "10742        0.0672  Aerosmith         0.565  ...  133.194    0.706  1974\n",
              "\n",
              "[2 rows x 19 columns]"
            ]
          },
          "metadata": {
            "tags": []
          },
          "execution_count": 105
        }
      ]
    },
    {
      "cell_type": "code",
      "metadata": {
        "colab": {
          "base_uri": "https://localhost:8080/"
        },
        "id": "TRRSOHlVb187",
        "outputId": "6fd67b1f-4719-464e-bb81-55a61c1b3d8e"
      },
      "source": [
        "song_list = data[(data['id'].str.contains('xxxx'))]\n",
        "for x in id_list:\n",
        "  print(x)\n",
        "  song_list = song_list.append(data[(data['id'] == x)])"
      ],
      "execution_count": 125,
      "outputs": [
        {
          "output_type": "stream",
          "text": [
            "5ZBeML7Lf3FMEVviTyvi8l\n",
            "3VbGCXWRiouAq8VyMYN2MI\n",
            "5ghIJDpPoe3CfHMGu71E6T\n",
            "4P5KoWXOxwuobLmHXLMobV\n",
            "64BbK9SFKH2jk86U3dGj2P\n",
            "1f2V8U1BiWaC9aJWmpOARe\n",
            "1VKr8751CzE7DB4AuEmS3V\n",
            "6nTiIhLmQ3FWhvrGafw2zj\n",
            "305WCRhhS10XUcH6AEwZk6\n",
            "0CFtlafteObzOEuJdESQkb\n"
          ],
          "name": "stdout"
        }
      ]
    },
    {
      "cell_type": "code",
      "metadata": {
        "colab": {
          "base_uri": "https://localhost:8080/",
          "height": 651
        },
        "id": "FRBLlRxVmwwf",
        "outputId": "4374a29f-9627-4e8c-b9bc-9c40de8153fc"
      },
      "source": [
        "song_list"
      ],
      "execution_count": 126,
      "outputs": [
        {
          "output_type": "execute_result",
          "data": {
            "text/html": [
              "<div>\n",
              "<style scoped>\n",
              "    .dataframe tbody tr th:only-of-type {\n",
              "        vertical-align: middle;\n",
              "    }\n",
              "\n",
              "    .dataframe tbody tr th {\n",
              "        vertical-align: top;\n",
              "    }\n",
              "\n",
              "    .dataframe thead th {\n",
              "        text-align: right;\n",
              "    }\n",
              "</style>\n",
              "<table border=\"1\" class=\"dataframe\">\n",
              "  <thead>\n",
              "    <tr style=\"text-align: right;\">\n",
              "      <th></th>\n",
              "      <th>acousticness</th>\n",
              "      <th>artists</th>\n",
              "      <th>danceability</th>\n",
              "      <th>duration_ms</th>\n",
              "      <th>energy</th>\n",
              "      <th>explicit</th>\n",
              "      <th>id</th>\n",
              "      <th>instrumentalness</th>\n",
              "      <th>key</th>\n",
              "      <th>liveness</th>\n",
              "      <th>loudness</th>\n",
              "      <th>mode</th>\n",
              "      <th>name</th>\n",
              "      <th>popularity</th>\n",
              "      <th>release_date</th>\n",
              "      <th>speechiness</th>\n",
              "      <th>tempo</th>\n",
              "      <th>valence</th>\n",
              "      <th>year</th>\n",
              "    </tr>\n",
              "  </thead>\n",
              "  <tbody>\n",
              "    <tr>\n",
              "      <th>8467</th>\n",
              "      <td>0.641000</td>\n",
              "      <td>The Beatles</td>\n",
              "      <td>0.482</td>\n",
              "      <td>155227</td>\n",
              "      <td>0.849</td>\n",
              "      <td>0</td>\n",
              "      <td>5ZBeML7Lf3FMEVviTyvi8l</td>\n",
              "      <td>0.000008</td>\n",
              "      <td>2</td>\n",
              "      <td>0.0414</td>\n",
              "      <td>-9.198</td>\n",
              "      <td>1</td>\n",
              "      <td>Twist And Shout - Remastered 2009</td>\n",
              "      <td>73</td>\n",
              "      <td>1963-03-22</td>\n",
              "      <td>0.0452</td>\n",
              "      <td>124.631</td>\n",
              "      <td>0.937</td>\n",
              "      <td>1963</td>\n",
              "    </tr>\n",
              "    <tr>\n",
              "      <th>8477</th>\n",
              "      <td>0.386000</td>\n",
              "      <td>The Beatles</td>\n",
              "      <td>0.520</td>\n",
              "      <td>141693</td>\n",
              "      <td>0.829</td>\n",
              "      <td>0</td>\n",
              "      <td>3VbGCXWRiouAq8VyMYN2MI</td>\n",
              "      <td>0.000062</td>\n",
              "      <td>0</td>\n",
              "      <td>0.2270</td>\n",
              "      <td>-6.228</td>\n",
              "      <td>1</td>\n",
              "      <td>Love Me Do - Remastered 2009</td>\n",
              "      <td>67</td>\n",
              "      <td>1963-03-22</td>\n",
              "      <td>0.0806</td>\n",
              "      <td>147.997</td>\n",
              "      <td>0.744</td>\n",
              "      <td>1963</td>\n",
              "    </tr>\n",
              "    <tr>\n",
              "      <th>14062</th>\n",
              "      <td>0.000025</td>\n",
              "      <td>Nirvana</td>\n",
              "      <td>0.502</td>\n",
              "      <td>301920</td>\n",
              "      <td>0.912</td>\n",
              "      <td>0</td>\n",
              "      <td>5ghIJDpPoe3CfHMGu71E6T</td>\n",
              "      <td>0.000173</td>\n",
              "      <td>1</td>\n",
              "      <td>0.1060</td>\n",
              "      <td>-4.556</td>\n",
              "      <td>1</td>\n",
              "      <td>Smells Like Teen Spirit</td>\n",
              "      <td>76</td>\n",
              "      <td>1991-09-26</td>\n",
              "      <td>0.0564</td>\n",
              "      <td>116.761</td>\n",
              "      <td>0.720</td>\n",
              "      <td>1991</td>\n",
              "    </tr>\n",
              "    <tr>\n",
              "      <th>14064</th>\n",
              "      <td>0.000160</td>\n",
              "      <td>Nirvana</td>\n",
              "      <td>0.500</td>\n",
              "      <td>218920</td>\n",
              "      <td>0.824</td>\n",
              "      <td>0</td>\n",
              "      <td>4P5KoWXOxwuobLmHXLMobV</td>\n",
              "      <td>0.001610</td>\n",
              "      <td>4</td>\n",
              "      <td>0.0916</td>\n",
              "      <td>-5.846</td>\n",
              "      <td>0</td>\n",
              "      <td>Come As You Are</td>\n",
              "      <td>73</td>\n",
              "      <td>1991-09-26</td>\n",
              "      <td>0.0388</td>\n",
              "      <td>120.125</td>\n",
              "      <td>0.539</td>\n",
              "      <td>1991</td>\n",
              "    </tr>\n",
              "    <tr>\n",
              "      <th>15676</th>\n",
              "      <td>0.003160</td>\n",
              "      <td>Red Hot Chili Peppers</td>\n",
              "      <td>0.458</td>\n",
              "      <td>255373</td>\n",
              "      <td>0.795</td>\n",
              "      <td>0</td>\n",
              "      <td>64BbK9SFKH2jk86U3dGj2P</td>\n",
              "      <td>0.000202</td>\n",
              "      <td>0</td>\n",
              "      <td>0.0756</td>\n",
              "      <td>-3.265</td>\n",
              "      <td>1</td>\n",
              "      <td>Otherside</td>\n",
              "      <td>78</td>\n",
              "      <td>1999-06-08</td>\n",
              "      <td>0.0574</td>\n",
              "      <td>123.229</td>\n",
              "      <td>0.513</td>\n",
              "      <td>1999</td>\n",
              "    </tr>\n",
              "    <tr>\n",
              "      <th>16306</th>\n",
              "      <td>0.026400</td>\n",
              "      <td>Red Hot Chili Peppers</td>\n",
              "      <td>0.451</td>\n",
              "      <td>216933</td>\n",
              "      <td>0.970</td>\n",
              "      <td>0</td>\n",
              "      <td>1f2V8U1BiWaC9aJWmpOARe</td>\n",
              "      <td>0.003550</td>\n",
              "      <td>0</td>\n",
              "      <td>0.1020</td>\n",
              "      <td>-4.938</td>\n",
              "      <td>1</td>\n",
              "      <td>By the Way</td>\n",
              "      <td>73</td>\n",
              "      <td>2002-07-09</td>\n",
              "      <td>0.1070</td>\n",
              "      <td>122.444</td>\n",
              "      <td>0.198</td>\n",
              "      <td>2002</td>\n",
              "    </tr>\n",
              "    <tr>\n",
              "      <th>140663</th>\n",
              "      <td>0.002300</td>\n",
              "      <td>ASIAN KUNG-FU GENERATION</td>\n",
              "      <td>0.392</td>\n",
              "      <td>192027</td>\n",
              "      <td>0.948</td>\n",
              "      <td>0</td>\n",
              "      <td>1VKr8751CzE7DB4AuEmS3V</td>\n",
              "      <td>0.000000</td>\n",
              "      <td>1</td>\n",
              "      <td>0.0653</td>\n",
              "      <td>-3.707</td>\n",
              "      <td>1</td>\n",
              "      <td>アフターダーク</td>\n",
              "      <td>52</td>\n",
              "      <td>2008-03-05</td>\n",
              "      <td>0.0456</td>\n",
              "      <td>190.937</td>\n",
              "      <td>0.593</td>\n",
              "      <td>2008</td>\n",
              "    </tr>\n",
              "    <tr>\n",
              "      <th>16672</th>\n",
              "      <td>0.000026</td>\n",
              "      <td>Green Day</td>\n",
              "      <td>0.380</td>\n",
              "      <td>176346</td>\n",
              "      <td>0.988</td>\n",
              "      <td>1</td>\n",
              "      <td>6nTiIhLmQ3FWhvrGafw2zj</td>\n",
              "      <td>0.000079</td>\n",
              "      <td>1</td>\n",
              "      <td>0.3680</td>\n",
              "      <td>-2.042</td>\n",
              "      <td>1</td>\n",
              "      <td>American Idiot</td>\n",
              "      <td>78</td>\n",
              "      <td>2004-09-21</td>\n",
              "      <td>0.0639</td>\n",
              "      <td>186.113</td>\n",
              "      <td>0.769</td>\n",
              "      <td>2004</td>\n",
              "    </tr>\n",
              "    <tr>\n",
              "      <th>16498</th>\n",
              "      <td>0.001480</td>\n",
              "      <td>Jet</td>\n",
              "      <td>0.613</td>\n",
              "      <td>213800</td>\n",
              "      <td>0.953</td>\n",
              "      <td>0</td>\n",
              "      <td>305WCRhhS10XUcH6AEwZk6</td>\n",
              "      <td>0.000582</td>\n",
              "      <td>2</td>\n",
              "      <td>0.1520</td>\n",
              "      <td>-3.435</td>\n",
              "      <td>1</td>\n",
              "      <td>Are You Gonna Be My Girl</td>\n",
              "      <td>74</td>\n",
              "      <td>2003-09-15</td>\n",
              "      <td>0.0855</td>\n",
              "      <td>105.046</td>\n",
              "      <td>0.537</td>\n",
              "      <td>2003</td>\n",
              "    </tr>\n",
              "    <tr>\n",
              "      <th>34101</th>\n",
              "      <td>0.006870</td>\n",
              "      <td>Aerosmith</td>\n",
              "      <td>0.569</td>\n",
              "      <td>249707</td>\n",
              "      <td>0.930</td>\n",
              "      <td>0</td>\n",
              "      <td>0CFtlafteObzOEuJdESQkb</td>\n",
              "      <td>0.000143</td>\n",
              "      <td>11</td>\n",
              "      <td>0.3700</td>\n",
              "      <td>-4.637</td>\n",
              "      <td>0</td>\n",
              "      <td>Eat The Rich</td>\n",
              "      <td>53</td>\n",
              "      <td>1993-01-01</td>\n",
              "      <td>0.0525</td>\n",
              "      <td>122.957</td>\n",
              "      <td>0.696</td>\n",
              "      <td>1993</td>\n",
              "    </tr>\n",
              "  </tbody>\n",
              "</table>\n",
              "</div>"
            ],
            "text/plain": [
              "        acousticness                   artists  ...  valence  year\n",
              "8467        0.641000               The Beatles  ...    0.937  1963\n",
              "8477        0.386000               The Beatles  ...    0.744  1963\n",
              "14062       0.000025                   Nirvana  ...    0.720  1991\n",
              "14064       0.000160                   Nirvana  ...    0.539  1991\n",
              "15676       0.003160     Red Hot Chili Peppers  ...    0.513  1999\n",
              "16306       0.026400     Red Hot Chili Peppers  ...    0.198  2002\n",
              "140663      0.002300  ASIAN KUNG-FU GENERATION  ...    0.593  2008\n",
              "16672       0.000026                 Green Day  ...    0.769  2004\n",
              "16498       0.001480                       Jet  ...    0.537  2003\n",
              "34101       0.006870                 Aerosmith  ...    0.696  1993\n",
              "\n",
              "[10 rows x 19 columns]"
            ]
          },
          "metadata": {
            "tags": []
          },
          "execution_count": 126
        }
      ]
    },
    {
      "cell_type": "code",
      "metadata": {
        "id": "LfZ_N6Ih2yXI"
      },
      "source": [
        "# 主成分\n",
        "## https://qiita.com/maskot1977/items/082557fcda78c4cdb41f"
      ],
      "execution_count": 167,
      "outputs": []
    },
    {
      "cell_type": "code",
      "metadata": {
        "id": "RwtlyTFgmf0W"
      },
      "source": [
        "import sklearn #機械学習のライブラリ\n",
        "from sklearn.decomposition import PCA #主成分分析器"
      ],
      "execution_count": 127,
      "outputs": []
    },
    {
      "cell_type": "code",
      "metadata": {
        "id": "eJOZhHYbn6hq"
      },
      "source": [
        "drop_col = ['artists', 'id','name','release_date']\n",
        "songpca = song_list.drop(drop_col, axis=1)"
      ],
      "execution_count": 130,
      "outputs": []
    },
    {
      "cell_type": "code",
      "metadata": {
        "colab": {
          "base_uri": "https://localhost:8080/",
          "height": 224
        },
        "id": "-dbbmp39n0-a",
        "outputId": "af35751d-8cd3-4f74-cf1b-470478a7f229"
      },
      "source": [
        "songpca_r = songpca.iloc[:, 1:].apply(lambda x: (x-x.mean())/x.std(), axis=0)\n",
        "songpca_r.head()"
      ],
      "execution_count": 131,
      "outputs": [
        {
          "output_type": "execute_result",
          "data": {
            "text/html": [
              "<div>\n",
              "<style scoped>\n",
              "    .dataframe tbody tr th:only-of-type {\n",
              "        vertical-align: middle;\n",
              "    }\n",
              "\n",
              "    .dataframe tbody tr th {\n",
              "        vertical-align: top;\n",
              "    }\n",
              "\n",
              "    .dataframe thead th {\n",
              "        text-align: right;\n",
              "    }\n",
              "</style>\n",
              "<table border=\"1\" class=\"dataframe\">\n",
              "  <thead>\n",
              "    <tr style=\"text-align: right;\">\n",
              "      <th></th>\n",
              "      <th>danceability</th>\n",
              "      <th>duration_ms</th>\n",
              "      <th>energy</th>\n",
              "      <th>explicit</th>\n",
              "      <th>instrumentalness</th>\n",
              "      <th>key</th>\n",
              "      <th>liveness</th>\n",
              "      <th>loudness</th>\n",
              "      <th>mode</th>\n",
              "      <th>popularity</th>\n",
              "      <th>speechiness</th>\n",
              "      <th>tempo</th>\n",
              "      <th>valence</th>\n",
              "      <th>year</th>\n",
              "    </tr>\n",
              "  </thead>\n",
              "  <tbody>\n",
              "    <tr>\n",
              "      <th>8467</th>\n",
              "      <td>-0.065234</td>\n",
              "      <td>-1.171004</td>\n",
              "      <td>-0.732865</td>\n",
              "      <td>-0.316228</td>\n",
              "      <td>-0.559389</td>\n",
              "      <td>-0.060120</td>\n",
              "      <td>-0.974593</td>\n",
              "      <td>-2.218782</td>\n",
              "      <td>0.474342</td>\n",
              "      <td>0.344028</td>\n",
              "      <td>-0.843207</td>\n",
              "      <td>-0.384547</td>\n",
              "      <td>1.567798</td>\n",
              "      <td>-1.774560</td>\n",
              "    </tr>\n",
              "    <tr>\n",
              "      <th>8477</th>\n",
              "      <td>0.462193</td>\n",
              "      <td>-1.449204</td>\n",
              "      <td>-1.021395</td>\n",
              "      <td>-0.316228</td>\n",
              "      <td>-0.511446</td>\n",
              "      <td>-0.661324</td>\n",
              "      <td>0.551987</td>\n",
              "      <td>-0.725448</td>\n",
              "      <td>0.474342</td>\n",
              "      <td>-0.281477</td>\n",
              "      <td>0.806850</td>\n",
              "      <td>0.404124</td>\n",
              "      <td>0.599216</td>\n",
              "      <td>-1.774560</td>\n",
              "    </tr>\n",
              "    <tr>\n",
              "      <th>14062</th>\n",
              "      <td>0.212359</td>\n",
              "      <td>1.844361</td>\n",
              "      <td>0.176003</td>\n",
              "      <td>-0.316228</td>\n",
              "      <td>-0.413369</td>\n",
              "      <td>-0.360722</td>\n",
              "      <td>-0.443251</td>\n",
              "      <td>0.115243</td>\n",
              "      <td>0.474342</td>\n",
              "      <td>0.656781</td>\n",
              "      <td>-0.321155</td>\n",
              "      <td>-0.650183</td>\n",
              "      <td>0.478770</td>\n",
              "      <td>-0.043282</td>\n",
              "    </tr>\n",
              "    <tr>\n",
              "      <th>14064</th>\n",
              "      <td>0.184599</td>\n",
              "      <td>0.138245</td>\n",
              "      <td>-1.093527</td>\n",
              "      <td>-0.316228</td>\n",
              "      <td>0.856336</td>\n",
              "      <td>0.541083</td>\n",
              "      <td>-0.561693</td>\n",
              "      <td>-0.533377</td>\n",
              "      <td>-1.897367</td>\n",
              "      <td>0.344028</td>\n",
              "      <td>-1.141523</td>\n",
              "      <td>-0.536638</td>\n",
              "      <td>-0.429589</td>\n",
              "      <td>-0.043282</td>\n",
              "    </tr>\n",
              "    <tr>\n",
              "      <th>15676</th>\n",
              "      <td>-0.398346</td>\n",
              "      <td>0.887558</td>\n",
              "      <td>-1.511895</td>\n",
              "      <td>-0.316228</td>\n",
              "      <td>-0.387745</td>\n",
              "      <td>-0.661324</td>\n",
              "      <td>-0.693295</td>\n",
              "      <td>0.764366</td>\n",
              "      <td>0.474342</td>\n",
              "      <td>0.865283</td>\n",
              "      <td>-0.274543</td>\n",
              "      <td>-0.431869</td>\n",
              "      <td>-0.560071</td>\n",
              "      <td>0.451369</td>\n",
              "    </tr>\n",
              "  </tbody>\n",
              "</table>\n",
              "</div>"
            ],
            "text/plain": [
              "       danceability  duration_ms    energy  ...     tempo   valence      year\n",
              "8467      -0.065234    -1.171004 -0.732865  ... -0.384547  1.567798 -1.774560\n",
              "8477       0.462193    -1.449204 -1.021395  ...  0.404124  0.599216 -1.774560\n",
              "14062      0.212359     1.844361  0.176003  ... -0.650183  0.478770 -0.043282\n",
              "14064      0.184599     0.138245 -1.093527  ... -0.536638 -0.429589 -0.043282\n",
              "15676     -0.398346     0.887558 -1.511895  ... -0.431869 -0.560071  0.451369\n",
              "\n",
              "[5 rows x 14 columns]"
            ]
          },
          "metadata": {
            "tags": []
          },
          "execution_count": 131
        }
      ]
    },
    {
      "cell_type": "code",
      "metadata": {
        "id": "MYOypLRVoo-5"
      },
      "source": [
        "#主成分分析の実行\n",
        "pca = PCA()\n",
        "pca.fit(songpca_r)\n",
        "# データを主成分空間に写像\n",
        "feature = pca.transform(songpca_r)"
      ],
      "execution_count": 133,
      "outputs": []
    },
    {
      "cell_type": "code",
      "metadata": {
        "id": "bTqYgNfko37p"
      },
      "source": [
        "#pd.DataFrame(feature, columns=[\"PC{}\".format(x + 1) for x in range(len(songpca_r.columns))]).head()"
      ],
      "execution_count": 145,
      "outputs": []
    },
    {
      "cell_type": "code",
      "metadata": {
        "id": "dH5dDlTmp_KJ"
      },
      "source": [
        "df = pd.DataFrame(feature)"
      ],
      "execution_count": 148,
      "outputs": []
    },
    {
      "cell_type": "code",
      "metadata": {
        "id": "De3fJidUrtp3"
      },
      "source": [
        "df['name'] = song_list['name'].values"
      ],
      "execution_count": 156,
      "outputs": []
    },
    {
      "cell_type": "code",
      "metadata": {
        "colab": {
          "base_uri": "https://localhost:8080/",
          "height": 359
        },
        "id": "tvOnQUSMscZd",
        "outputId": "826b88a1-9190-43ec-998a-b80308d80ab5"
      },
      "source": [
        "df"
      ],
      "execution_count": 157,
      "outputs": [
        {
          "output_type": "execute_result",
          "data": {
            "text/html": [
              "<div>\n",
              "<style scoped>\n",
              "    .dataframe tbody tr th:only-of-type {\n",
              "        vertical-align: middle;\n",
              "    }\n",
              "\n",
              "    .dataframe tbody tr th {\n",
              "        vertical-align: top;\n",
              "    }\n",
              "\n",
              "    .dataframe thead th {\n",
              "        text-align: right;\n",
              "    }\n",
              "</style>\n",
              "<table border=\"1\" class=\"dataframe\">\n",
              "  <thead>\n",
              "    <tr style=\"text-align: right;\">\n",
              "      <th></th>\n",
              "      <th>0</th>\n",
              "      <th>1</th>\n",
              "      <th>2</th>\n",
              "      <th>3</th>\n",
              "      <th>4</th>\n",
              "      <th>5</th>\n",
              "      <th>6</th>\n",
              "      <th>7</th>\n",
              "      <th>8</th>\n",
              "      <th>9</th>\n",
              "      <th>name</th>\n",
              "    </tr>\n",
              "  </thead>\n",
              "  <tbody>\n",
              "    <tr>\n",
              "      <th>0</th>\n",
              "      <td>-2.571315</td>\n",
              "      <td>-1.277799</td>\n",
              "      <td>-2.316136</td>\n",
              "      <td>-0.335363</td>\n",
              "      <td>0.233467</td>\n",
              "      <td>0.222070</td>\n",
              "      <td>-1.028265</td>\n",
              "      <td>0.208680</td>\n",
              "      <td>0.291814</td>\n",
              "      <td>2.388355e-16</td>\n",
              "      <td>Twist And Shout - Remastered 2009</td>\n",
              "    </tr>\n",
              "    <tr>\n",
              "      <th>1</th>\n",
              "      <td>-1.140652</td>\n",
              "      <td>-0.963986</td>\n",
              "      <td>-1.690854</td>\n",
              "      <td>-1.607372</td>\n",
              "      <td>0.449072</td>\n",
              "      <td>-0.471554</td>\n",
              "      <td>1.135971</td>\n",
              "      <td>-0.401173</td>\n",
              "      <td>-0.255422</td>\n",
              "      <td>1.555687e-16</td>\n",
              "      <td>Love Me Do - Remastered 2009</td>\n",
              "    </tr>\n",
              "    <tr>\n",
              "      <th>2</th>\n",
              "      <td>-0.340955</td>\n",
              "      <td>0.627574</td>\n",
              "      <td>-0.061219</td>\n",
              "      <td>0.966792</td>\n",
              "      <td>-1.522420</td>\n",
              "      <td>-0.664080</td>\n",
              "      <td>-0.854107</td>\n",
              "      <td>-0.662517</td>\n",
              "      <td>-0.355096</td>\n",
              "      <td>-3.963189e-16</td>\n",
              "      <td>Smells Like Teen Spirit</td>\n",
              "    </tr>\n",
              "    <tr>\n",
              "      <th>3</th>\n",
              "      <td>-1.665372</td>\n",
              "      <td>0.647406</td>\n",
              "      <td>0.707446</td>\n",
              "      <td>0.889048</td>\n",
              "      <td>0.269825</td>\n",
              "      <td>1.864093</td>\n",
              "      <td>0.268304</td>\n",
              "      <td>0.520838</td>\n",
              "      <td>-0.310644</td>\n",
              "      <td>1.588205e-15</td>\n",
              "      <td>Come As You Are</td>\n",
              "    </tr>\n",
              "    <tr>\n",
              "      <th>4</th>\n",
              "      <td>0.039612</td>\n",
              "      <td>0.943130</td>\n",
              "      <td>-0.763569</td>\n",
              "      <td>1.628605</td>\n",
              "      <td>-1.163790</td>\n",
              "      <td>0.037996</td>\n",
              "      <td>1.027467</td>\n",
              "      <td>-0.195180</td>\n",
              "      <td>0.402238</td>\n",
              "      <td>-3.531825e-16</td>\n",
              "      <td>Otherside</td>\n",
              "    </tr>\n",
              "    <tr>\n",
              "      <th>5</th>\n",
              "      <td>1.845429</td>\n",
              "      <td>3.394678</td>\n",
              "      <td>-0.354673</td>\n",
              "      <td>-0.952847</td>\n",
              "      <td>1.319366</td>\n",
              "      <td>0.569977</td>\n",
              "      <td>-0.379073</td>\n",
              "      <td>-0.410124</td>\n",
              "      <td>0.104524</td>\n",
              "      <td>-1.370617e-15</td>\n",
              "      <td>By the Way</td>\n",
              "    </tr>\n",
              "    <tr>\n",
              "      <th>6</th>\n",
              "      <td>1.479500</td>\n",
              "      <td>-1.315426</td>\n",
              "      <td>-0.008838</td>\n",
              "      <td>1.799411</td>\n",
              "      <td>2.058838</td>\n",
              "      <td>-1.081658</td>\n",
              "      <td>-0.031839</td>\n",
              "      <td>0.216487</td>\n",
              "      <td>-0.071924</td>\n",
              "      <td>-1.198918e-15</td>\n",
              "      <td>アフターダーク</td>\n",
              "    </tr>\n",
              "    <tr>\n",
              "      <th>7</th>\n",
              "      <td>3.652203</td>\n",
              "      <td>-2.604446</td>\n",
              "      <td>-0.004892</td>\n",
              "      <td>-0.710944</td>\n",
              "      <td>-1.004088</td>\n",
              "      <td>0.969357</td>\n",
              "      <td>-0.142059</td>\n",
              "      <td>0.075378</td>\n",
              "      <td>0.012708</td>\n",
              "      <td>9.581952e-16</td>\n",
              "      <td>American Idiot</td>\n",
              "    </tr>\n",
              "    <tr>\n",
              "      <th>8</th>\n",
              "      <td>0.279249</td>\n",
              "      <td>1.577341</td>\n",
              "      <td>0.579983</td>\n",
              "      <td>-1.025172</td>\n",
              "      <td>-0.934292</td>\n",
              "      <td>-1.272993</td>\n",
              "      <td>0.020374</td>\n",
              "      <td>1.029225</td>\n",
              "      <td>-0.022298</td>\n",
              "      <td>1.598273e-15</td>\n",
              "      <td>Are You Gonna Be My Girl</td>\n",
              "    </tr>\n",
              "    <tr>\n",
              "      <th>9</th>\n",
              "      <td>-1.577700</td>\n",
              "      <td>-1.028471</td>\n",
              "      <td>3.912752</td>\n",
              "      <td>-0.652159</td>\n",
              "      <td>0.294022</td>\n",
              "      <td>-0.173208</td>\n",
              "      <td>-0.016775</td>\n",
              "      <td>-0.381614</td>\n",
              "      <td>0.204100</td>\n",
              "      <td>-3.081344e-16</td>\n",
              "      <td>Eat The Rich</td>\n",
              "    </tr>\n",
              "  </tbody>\n",
              "</table>\n",
              "</div>"
            ],
            "text/plain": [
              "          0         1  ...             9                               name\n",
              "0 -2.571315 -1.277799  ...  2.388355e-16  Twist And Shout - Remastered 2009\n",
              "1 -1.140652 -0.963986  ...  1.555687e-16       Love Me Do - Remastered 2009\n",
              "2 -0.340955  0.627574  ... -3.963189e-16            Smells Like Teen Spirit\n",
              "3 -1.665372  0.647406  ...  1.588205e-15                    Come As You Are\n",
              "4  0.039612  0.943130  ... -3.531825e-16                          Otherside\n",
              "5  1.845429  3.394678  ... -1.370617e-15                         By the Way\n",
              "6  1.479500 -1.315426  ... -1.198918e-15                            アフターダーク\n",
              "7  3.652203 -2.604446  ...  9.581952e-16                     American Idiot\n",
              "8  0.279249  1.577341  ...  1.598273e-15           Are You Gonna Be My Girl\n",
              "9 -1.577700 -1.028471  ... -3.081344e-16                       Eat The Rich\n",
              "\n",
              "[10 rows x 11 columns]"
            ]
          },
          "metadata": {
            "tags": []
          },
          "execution_count": 157
        }
      ]
    },
    {
      "cell_type": "code",
      "metadata": {
        "id": "fRo4aDdEtT1Y"
      },
      "source": [
        "x = df[0]\n",
        "y = df[1]\n",
        "text = df['name']"
      ],
      "execution_count": 160,
      "outputs": []
    },
    {
      "cell_type": "code",
      "metadata": {
        "id": "kMgVnQLI2dh9"
      },
      "source": [
        "# ラベルつき散布図　参考\n",
        "## https://upura.hatenablog.com/entry/2018/07/05/181500#Python%E3%81%A7%E3%81%AE%E5%AE%9F%E8%A3%85"
      ],
      "execution_count": 165,
      "outputs": []
    },
    {
      "cell_type": "code",
      "metadata": {
        "colab": {
          "base_uri": "https://localhost:8080/",
          "height": 673
        },
        "id": "CSdv4scLtZ37",
        "outputId": "d748d902-5c9b-4b7f-d2d9-be72adb59e25"
      },
      "source": [
        "fig, ax = plt.subplots()\n",
        "plt.plot(x, y, 'bo')\n",
        "texts = [plt.text(x[i], y[i], text[i], ha='center', va='center') for i in range(len(x))]"
      ],
      "execution_count": 164,
      "outputs": [
        {
          "output_type": "stream",
          "text": [
            "/usr/local/lib/python3.6/dist-packages/matplotlib/backends/backend_agg.py:214: RuntimeWarning: Glyph 12450 missing from current font.\n",
            "  font.set_text(s, 0.0, flags=flags)\n",
            "/usr/local/lib/python3.6/dist-packages/matplotlib/backends/backend_agg.py:214: RuntimeWarning: Glyph 12501 missing from current font.\n",
            "  font.set_text(s, 0.0, flags=flags)\n",
            "/usr/local/lib/python3.6/dist-packages/matplotlib/backends/backend_agg.py:214: RuntimeWarning: Glyph 12479 missing from current font.\n",
            "  font.set_text(s, 0.0, flags=flags)\n",
            "/usr/local/lib/python3.6/dist-packages/matplotlib/backends/backend_agg.py:214: RuntimeWarning: Glyph 12540 missing from current font.\n",
            "  font.set_text(s, 0.0, flags=flags)\n",
            "/usr/local/lib/python3.6/dist-packages/matplotlib/backends/backend_agg.py:214: RuntimeWarning: Glyph 12480 missing from current font.\n",
            "  font.set_text(s, 0.0, flags=flags)\n",
            "/usr/local/lib/python3.6/dist-packages/matplotlib/backends/backend_agg.py:214: RuntimeWarning: Glyph 12463 missing from current font.\n",
            "  font.set_text(s, 0.0, flags=flags)\n",
            "/usr/local/lib/python3.6/dist-packages/matplotlib/backends/backend_agg.py:183: RuntimeWarning: Glyph 12450 missing from current font.\n",
            "  font.set_text(s, 0, flags=flags)\n",
            "/usr/local/lib/python3.6/dist-packages/matplotlib/backends/backend_agg.py:183: RuntimeWarning: Glyph 12501 missing from current font.\n",
            "  font.set_text(s, 0, flags=flags)\n",
            "/usr/local/lib/python3.6/dist-packages/matplotlib/backends/backend_agg.py:183: RuntimeWarning: Glyph 12479 missing from current font.\n",
            "  font.set_text(s, 0, flags=flags)\n",
            "/usr/local/lib/python3.6/dist-packages/matplotlib/backends/backend_agg.py:183: RuntimeWarning: Glyph 12540 missing from current font.\n",
            "  font.set_text(s, 0, flags=flags)\n",
            "/usr/local/lib/python3.6/dist-packages/matplotlib/backends/backend_agg.py:183: RuntimeWarning: Glyph 12480 missing from current font.\n",
            "  font.set_text(s, 0, flags=flags)\n",
            "/usr/local/lib/python3.6/dist-packages/matplotlib/backends/backend_agg.py:183: RuntimeWarning: Glyph 12463 missing from current font.\n",
            "  font.set_text(s, 0, flags=flags)\n"
          ],
          "name": "stderr"
        },
        {
          "output_type": "display_data",
          "data": {
            "image/png": "[encoded data removed]",
            "text/plain": [
              "<Figure size 432x288 with 1 Axes>"
            ]
          },
          "metadata": {
            "tags": [],
            "needs_background": "light"
          }
        }
      ]
    },
    {
      "cell_type": "code",
      "metadata": {
        "colab": {
          "base_uri": "https://localhost:8080/",
          "height": 372
        },
        "id": "FpoQvPxQtzAc",
        "outputId": "285d646d-14a6-4377-d33a-2619beffa23f"
      },
      "source": [
        "from adjustText import adjust_text\n",
        "fig, ax = plt.subplots()\n",
        "plt.plot(x, y, 'bo')\n",
        "texts = [plt.text(x[i], y[i], text[i], ha='center', va='center') for i in range(len(x))]\n",
        "adjust_text(texts)"
      ],
      "execution_count": 162,
      "outputs": [
        {
          "output_type": "error",
          "ename": "ModuleNotFoundError",
          "evalue": "ignored",
          "traceback": [
            "\u001b[0;31m---------------------------------------------------------------------------\u001b[0m",
            "\u001b[0;31mModuleNotFoundError\u001b[0m                       Traceback (most recent call last)",
            "\u001b[0;32m<ipython-input-162-a8055d30e66c>\u001b[0m in \u001b[0;36m<module>\u001b[0;34m()\u001b[0m\n\u001b[0;32m----> 1\u001b[0;31m \u001b[0;32mfrom\u001b[0m \u001b[0madjustText\u001b[0m \u001b[0;32mimport\u001b[0m \u001b[0madjust_text\u001b[0m\u001b[0;34m\u001b[0m\u001b[0;34m\u001b[0m\u001b[0m\n\u001b[0m\u001b[1;32m      2\u001b[0m \u001b[0mfig\u001b[0m\u001b[0;34m,\u001b[0m \u001b[0max\u001b[0m \u001b[0;34m=\u001b[0m \u001b[0mplt\u001b[0m\u001b[0;34m.\u001b[0m\u001b[0msubplots\u001b[0m\u001b[0;34m(\u001b[0m\u001b[0;34m)\u001b[0m\u001b[0;34m\u001b[0m\u001b[0;34m\u001b[0m\u001b[0m\n\u001b[1;32m      3\u001b[0m \u001b[0mplt\u001b[0m\u001b[0;34m.\u001b[0m\u001b[0mplot\u001b[0m\u001b[0;34m(\u001b[0m\u001b[0mx\u001b[0m\u001b[0;34m,\u001b[0m \u001b[0my\u001b[0m\u001b[0;34m,\u001b[0m \u001b[0;34m'bo'\u001b[0m\u001b[0;34m)\u001b[0m\u001b[0;34m\u001b[0m\u001b[0;34m\u001b[0m\u001b[0m\n\u001b[1;32m      4\u001b[0m \u001b[0mtexts\u001b[0m \u001b[0;34m=\u001b[0m \u001b[0;34m[\u001b[0m\u001b[0mplt\u001b[0m\u001b[0;34m.\u001b[0m\u001b[0mtext\u001b[0m\u001b[0;34m(\u001b[0m\u001b[0mx\u001b[0m\u001b[0;34m[\u001b[0m\u001b[0mi\u001b[0m\u001b[0;34m]\u001b[0m\u001b[0;34m,\u001b[0m \u001b[0my\u001b[0m\u001b[0;34m[\u001b[0m\u001b[0mi\u001b[0m\u001b[0;34m]\u001b[0m\u001b[0;34m,\u001b[0m \u001b[0mtext\u001b[0m\u001b[0;34m[\u001b[0m\u001b[0mi\u001b[0m\u001b[0;34m]\u001b[0m\u001b[0;34m,\u001b[0m \u001b[0mha\u001b[0m\u001b[0;34m=\u001b[0m\u001b[0;34m'center'\u001b[0m\u001b[0;34m,\u001b[0m \u001b[0mva\u001b[0m\u001b[0;34m=\u001b[0m\u001b[0;34m'center'\u001b[0m\u001b[0;34m)\u001b[0m \u001b[0;32mfor\u001b[0m \u001b[0mi\u001b[0m \u001b[0;32min\u001b[0m \u001b[0mrange\u001b[0m\u001b[0;34m(\u001b[0m\u001b[0mlen\u001b[0m\u001b[0;34m(\u001b[0m\u001b[0mx\u001b[0m\u001b[0;34m)\u001b[0m\u001b[0;34m)\u001b[0m\u001b[0;34m]\u001b[0m\u001b[0;34m\u001b[0m\u001b[0;34m\u001b[0m\u001b[0m\n\u001b[1;32m      5\u001b[0m \u001b[0madjust_text\u001b[0m\u001b[0;34m(\u001b[0m\u001b[0mtexts\u001b[0m\u001b[0;34m)\u001b[0m\u001b[0;34m\u001b[0m\u001b[0;34m\u001b[0m\u001b[0m\n",
            "\u001b[0;31mModuleNotFoundError\u001b[0m: No module named 'adjustText'",
            "",
            "\u001b[0;31m---------------------------------------------------------------------------\u001b[0;32m\nNOTE: If your import is failing due to a missing package, you can\nmanually install dependencies using either !pip or !apt.\n\nTo view examples of installing some common dependencies, click the\n\"Open Examples\" button below.\n\u001b[0;31m---------------------------------------------------------------------------\u001b[0m\n"
          ]
        }
      ]
    },
    {
      "cell_type": "code",
      "metadata": {
        "colab": {
          "base_uri": "https://localhost:8080/",
          "height": 388
        },
        "id": "-0v1YYbBpB_U",
        "outputId": "147a063f-9ab2-45d3-9f15-315cb3613ce5"
      },
      "source": [
        "import matplotlib.pyplot as plt\n",
        "\n",
        "plt.figure(figsize=(6, 6))\n",
        "plt.scatter(feature[:, 0], feature[:, 1], alpha=0.8)\n",
        "plt.grid()\n",
        "plt.xlabel(\"PC1\")\n",
        "plt.ylabel(\"PC2\")\n",
        "plt.show()"
      ],
      "execution_count": 142,
      "outputs": [
        {
          "output_type": "display_data",
          "data": {
            "image/png": "[encoded data removed]",
            "text/plain": [
              "<Figure size 432x432 with 1 Axes>"
            ]
          },
          "metadata": {
            "tags": [],
            "needs_background": "light"
          }
        }
      ]
    },
    {
      "cell_type": "code",
      "metadata": {
        "id": "Lt22KYV7pa-m"
      },
      "source": [
        ""
      ],
      "execution_count": null,
      "outputs": []
    },
    {
      "cell_type": "markdown",
      "metadata": {
        "id": "o9VxkZYbH-oR"
      },
      "source": [
        "予測を作れると良い。レコメンドしたい。  \n",
        "ある曲を入れた時に、似た曲を返す。（1990'-）  \n",
        "ベイズの実装を行い、  "
      ]
    }
  ]
}